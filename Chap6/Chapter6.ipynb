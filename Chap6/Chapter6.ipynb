{
 "cells": [
  {
   "cell_type": "markdown",
   "metadata": {},
   "source": [
    "# 第6章: 機械学習\n",
    "> 本章では，Fabio Gasparetti氏が公開しているNews Aggregator Data Setを用い，ニュース記事の見出しを「ビジネス」「科学技術」「エンターテイメント」「健康」のカテゴリに分類するタスク（カテゴリ分類）に取り組む"
   ]
  },
  {
   "cell_type": "markdown",
   "metadata": {},
   "source": [
    "## 50. データの入手・整形\n",
    "> `News Aggregator Data Set`をダウンロードし、以下の要領で学習データ（train.txt），検証データ（valid.txt），評価データ（test.txt）を作成せよ．\n",
    "1. ダウンロードしたzipファイルを解凍し，readme.txtの説明を読む．\n",
    "2. 情報源（publisher）が”Reuters”, “Huffington Post”, “Businessweek”, “Contactmusic.com”, “Daily Mail”の事例（記事）のみを抽出する．\n",
    "3. 抽出された事例をランダムに並び替える．\n",
    "4. 抽出された事例の80%を学習データ，残りの10%ずつを検証データと評価データに分割し，それぞれtrain.txt，valid.txt，test.txtというファイル名で保存する．ファイルには，１行に１事例を書き出すこととし，カテゴリ名と記事見出しのタブ区切り形式とせよ（このファイルは後に問題70で再利用する）．\n",
    "学習データと評価データを作成したら，各カテゴリの事例数を確認せよ．"
   ]
  },
  {
   "cell_type": "code",
   "execution_count": 4,
   "metadata": {},
   "outputs": [
    {
     "name": "stdout",
     "output_type": "stream",
     "text": [
      "--2020-12-18 14:19:23--  https://archive.ics.uci.edu/ml/machine-learning-databases/00359/NewsAggregatorDataset.zip\n",
      "archive.ics.uci.edu (archive.ics.uci.edu) をDNSに問いあわせています... 128.195.10.252\n",
      "archive.ics.uci.edu (archive.ics.uci.edu)|128.195.10.252|:443 に接続しています... 接続しました。\n",
      "HTTP による接続要求を送信しました、応答を待っています... 200 OK\n",
      "長さ: 29224203 (28M) [application/x-httpd-php]\n",
      "`NewsAggregatorDataset.zip' に保存中\n",
      "\n",
      "NewsAggregatorDatas 100%[===================>]  27.87M  6.50MB/s 時間 5.2s       \n",
      "\n",
      "2020-12-18 14:19:29 (5.35 MB/s) - `NewsAggregatorDataset.zip' へ保存完了 [29224203/29224203]\n",
      "\n"
     ]
    }
   ],
   "source": [
    "!wget -nc https://archive.ics.uci.edu/ml/machine-learning-databases/00359/NewsAggregatorDataset.zip"
   ]
  },
  {
   "cell_type": "code",
   "execution_count": 5,
   "metadata": {},
   "outputs": [
    {
     "name": "stdout",
     "output_type": "stream",
     "text": [
      "Archive:  NewsAggregatorDataset.zip\n",
      "  inflating: 2pageSessions.csv       \n",
      "   creating: __MACOSX/\n",
      "  inflating: __MACOSX/._2pageSessions.csv  \n",
      "  inflating: newsCorpora.csv         \n",
      "  inflating: __MACOSX/._newsCorpora.csv  \n",
      "  inflating: readme.txt              \n",
      "  inflating: __MACOSX/._readme.txt   \n"
     ]
    }
   ],
   "source": [
    "!unzip NewsAggregatorDataset.zip"
   ]
  },
  {
   "cell_type": "markdown",
   "metadata": {},
   "source": [
    "### README.txtより\n",
    ">`SUMMARY`: Dataset of references (urls) to news web pages.  \n",
    "`DESCRIPTION`: Dataset of references to news web pages collected from an online aggregator in the period from March 10 to August 10 of 2014. The resources are grouped into clusters that represent pages discussing the same news story. The dataset includes also references to web pages that point (has a link to) one of the news page in the collection.  \n",
    "`TAGS`: web pages, news, aggregator, classification, clustering\n",
    "\n",
    "### CONTENT\n",
    "==============\n",
    "\n",
    ">FILENAME #1: newsCorpora.csv (102.297.000 bytes)  \n",
    "DESCRIPTION: News pages  \n",
    "FORMAT: ID \\t TITLE \\t URL \\t PUBLISHER \\t CATEGORY \\t STORY \\t HOSTNAME \\t TIMESTAMP  \n",
    "`\n",
    "where:\n",
    "ID\t\tNumeric ID\n",
    "TITLE\t\tNews title \n",
    "URL\t\tUrl\n",
    "PUBLISHER\tPublisher name\n",
    "CATEGORY\tNews category (b = business, t = science and technology, e = entertainment, m = health)\n",
    "STORY\t\tAlphanumeric ID of the cluster that includes news about the same story\n",
    "HOSTNAME\tUrl hostname\n",
    "TIMESTAMP \tApproximate time the news was published, as the number of milliseconds since the epoch 00:00:00 GMT, January 1, 1970\n",
    "`  \n",
    "FILENAME #2: 2pageSessions.csv (3.049.986 bytes)  \n",
    "DESCRIPTION: 2-page sessions  \n",
    "FORMAT: STORY \\t HOSTNAME \\t CATEGORY \\t URL  \n",
    "`\n",
    "where:\n",
    "STORY\t\tAlphanumeric ID of the cluster that includes news about the same story\n",
    "HOSTNAME\tUrl hostname\n",
    "CATEGORY\tNews category (b = business, t = science and technology, e = entertainment, m = health)\n",
    "URL\t\tTwo space-delimited urls representing a browsing session\n",
    "`\n"
   ]
  },
  {
   "cell_type": "code",
   "execution_count": 10,
   "metadata": {},
   "outputs": [],
   "source": [
    "import pandas as pd\n",
    "import numpy as np\n",
    "df_news_corpora = pd.read_csv('newsCorpora.csv', sep='\\t', names=('ID', 'TITLE', 'URL', 'PUBLISHER', 'CATEGORY', 'STORY', 'HOSTNAME', 'TIMESTAMP'))\n",
    "df_2_page_sessions = pd.read_csv('2pageSessions.csv', sep='\\t', names=('STORY', 'HOSTNAME', 'CATEGORY', 'URL'))\n",
    "\n",
    "# tab区切りのときはread_csvではなく, read_tableを使うと良い"
   ]
  },
  {
   "cell_type": "code",
   "execution_count": 11,
   "metadata": {},
   "outputs": [
    {
     "data": {
      "text/html": [
       "<div>\n",
       "<style scoped>\n",
       "    .dataframe tbody tr th:only-of-type {\n",
       "        vertical-align: middle;\n",
       "    }\n",
       "\n",
       "    .dataframe tbody tr th {\n",
       "        vertical-align: top;\n",
       "    }\n",
       "\n",
       "    .dataframe thead th {\n",
       "        text-align: right;\n",
       "    }\n",
       "</style>\n",
       "<table border=\"1\" class=\"dataframe\">\n",
       "  <thead>\n",
       "    <tr style=\"text-align: right;\">\n",
       "      <th></th>\n",
       "      <th>ID</th>\n",
       "      <th>TITLE</th>\n",
       "      <th>URL</th>\n",
       "      <th>PUBLISHER</th>\n",
       "      <th>CATEGORY</th>\n",
       "      <th>STORY</th>\n",
       "      <th>HOSTNAME</th>\n",
       "      <th>TIMESTAMP</th>\n",
       "    </tr>\n",
       "  </thead>\n",
       "  <tbody>\n",
       "    <tr>\n",
       "      <th>0</th>\n",
       "      <td>1</td>\n",
       "      <td>Fed official says weak data caused by weather,...</td>\n",
       "      <td>http://www.latimes.com/business/money/la-fi-mo...</td>\n",
       "      <td>Los Angeles Times</td>\n",
       "      <td>b</td>\n",
       "      <td>ddUyU0VZz0BRneMioxUPQVP6sIxvM</td>\n",
       "      <td>www.latimes.com</td>\n",
       "      <td>1394470370698</td>\n",
       "    </tr>\n",
       "    <tr>\n",
       "      <th>1</th>\n",
       "      <td>2</td>\n",
       "      <td>Fed's Charles Plosser sees high bar for change...</td>\n",
       "      <td>http://www.livemint.com/Politics/H2EvwJSK2VE6O...</td>\n",
       "      <td>Livemint</td>\n",
       "      <td>b</td>\n",
       "      <td>ddUyU0VZz0BRneMioxUPQVP6sIxvM</td>\n",
       "      <td>www.livemint.com</td>\n",
       "      <td>1394470371207</td>\n",
       "    </tr>\n",
       "    <tr>\n",
       "      <th>2</th>\n",
       "      <td>3</td>\n",
       "      <td>US open: Stocks fall after Fed official hints ...</td>\n",
       "      <td>http://www.ifamagazine.com/news/us-open-stocks...</td>\n",
       "      <td>IFA Magazine</td>\n",
       "      <td>b</td>\n",
       "      <td>ddUyU0VZz0BRneMioxUPQVP6sIxvM</td>\n",
       "      <td>www.ifamagazine.com</td>\n",
       "      <td>1394470371550</td>\n",
       "    </tr>\n",
       "  </tbody>\n",
       "</table>\n",
       "</div>"
      ],
      "text/plain": [
       "   ID                                              TITLE  \\\n",
       "0   1  Fed official says weak data caused by weather,...   \n",
       "1   2  Fed's Charles Plosser sees high bar for change...   \n",
       "2   3  US open: Stocks fall after Fed official hints ...   \n",
       "\n",
       "                                                 URL          PUBLISHER  \\\n",
       "0  http://www.latimes.com/business/money/la-fi-mo...  Los Angeles Times   \n",
       "1  http://www.livemint.com/Politics/H2EvwJSK2VE6O...           Livemint   \n",
       "2  http://www.ifamagazine.com/news/us-open-stocks...       IFA Magazine   \n",
       "\n",
       "  CATEGORY                          STORY             HOSTNAME      TIMESTAMP  \n",
       "0        b  ddUyU0VZz0BRneMioxUPQVP6sIxvM      www.latimes.com  1394470370698  \n",
       "1        b  ddUyU0VZz0BRneMioxUPQVP6sIxvM     www.livemint.com  1394470371207  \n",
       "2        b  ddUyU0VZz0BRneMioxUPQVP6sIxvM  www.ifamagazine.com  1394470371550  "
      ]
     },
     "execution_count": 11,
     "metadata": {},
     "output_type": "execute_result"
    }
   ],
   "source": [
    "df_news_corpora.head(3)"
   ]
  },
  {
   "cell_type": "code",
   "execution_count": 42,
   "metadata": {},
   "outputs": [
    {
     "name": "stdout",
     "output_type": "stream",
     "text": [
      "The Best Reactions To The Supposed Video of Solange Knowles & Jay Z  ...\thttp://www.hiphopdx.com/index/news/id.28728/title.-the-best-reactions-to-the-supposed-video-of-solange-knowles-jay-z-fighting-in-an-elevator-list-by-time/\tHipHopDX\te\tdku0uRoeehpC9JM1RoZ4n0fg8cyoM\twww.hiphopdx.com\t1399983366398\n",
      "210714\tReport: Jay-Z attacked by Beyonce's sister\thttp://www.wsbtv.com/news/entertainment/report-jay-z-attacked-beyonces-sister/nftYg/\\?icmp=cmgcontent_internallink_relatedcontent_2014_partners4\tWSB Atlanta\te\tdku0uRoeehpC9JM1RoZ4n0fg8cyoM\twww.wsbtv.com\t1399983366584\n",
      "210715\tNot So Drunk In Love? 50 Cent Reacts To Beyonce NOT Defending Jay Z In  ...\thttp://www.entertainmentwise.com/news/148948/Not-So-Drunk-In-Love-50-Cent-Reacts-To-Beyonce-NOT-Defending-Jay-Z-In-Solange-Knowles-Elevator-Fight\tEntertainmentwise\te\tdku0uRoeehpC9JM1RoZ4n0fg8cyoM\twww.entertainmentwise.com\t1399983366926\n",
      "210716\tBefore the Brawl! Find Out What Happened At The After-Party That Sparked  ...\thttp://radaronline.com/photos/solange-attack-jay-z-beyonce-met-gala-after-party/photo/653807/\tRadar Online\te\tdku0uRoeehpC9JM1RoZ4n0fg8cyoM\tradaronline.com\t1399983367118\n",
      "210717\tSure, The Solange Attack Memes Are Funny, But They're Also Completely  ...\thttp://www.crushable.com/2014/05/12/entertainment/solange-attack-memes-what-jay-z-said-to-solange-elevator-beyonce/\tCrushable\te\tdku0uRoeehpC9JM1RoZ4n0fg8cyoM\twww.crushable.com\t1399983367406\n",
      "210718\t50 Cent And Dame Dash Throw Jabs At Jay Z Over The Solange Fight [VIDEO]\thttp://atlantadailyworld.com/2014/05/12/50-cent-and-dame-dash-throw-jabs-at-jay-z-over-the-solange-fight-video/\tatlantadailyworld\te\tdku0uRoeehpC9JM1RoZ4n0fg8cyoM\tatlantadailyworld.com\t1399983367691\n",
      "210719\tFox unveils schedule, cutting back 'Idol'\thttp://www.hudsonhubtimes.com/latest%20headlines/2014/05/12/fox-unveils-schedule-cutting-back-idol\tHudson Hub-Times\te\tdE-WON6N-ZPFa3MQTI7QDRpfhQwjM\twww.hudsonhubtimes.com\t1399985294553\n",
      "210720\tFox lineup: 'American Idol' shrinking; Batman prequel 'Gotham' to air Mondays\thttp://www.newsday.com/entertainment/tv/fox-lineup-american-idol-shrinking-batman-prequel-gotham-to-air-mondays-1.8001233\tNewsday\te\tdE-WON6N-ZPFa3MQTI7QDRpfhQwjM\twww.newsday.com\t1399985294870\n",
      "210721\tAmerican Idol Set To Be Cut Down Into 'Single Two Hour Show' Each Week\thttp://www.entertainmentwise.com/news/149002/American-Idol-Set-To-Be-Cut-Down-Into-Single-Two-Hour-Show-Each-Week\tEntertainmentwise\te\tdE-WON6N-ZPFa3MQTI7QDRpfhQwjM\twww.entertainmentwise.com\t1399985295162\n",
      "210722\tFox Upfront Scorecard: Big Risks, to Dig Out of a Big Hole\thttp://variety.com/2014/tv/columns/fox-upfront-scorecard-big-risks-to-dig-out-of-a-big-hole-1201178058/\tVariety\te\tdE-WON6N-ZPFa3MQTI7QDRpfhQwjM\tvariety.com\t1399985295432\n",
      "210723\tThe Riddler AND The Joker Confirmed For Fox's Gotham\"\n"
     ]
    }
   ],
   "source": [
    "print(df_news_corpora[df_news_corpora.ID == 210713].TITLE.iloc[0])"
   ]
  },
  {
   "cell_type": "code",
   "execution_count": 47,
   "metadata": {},
   "outputs": [],
   "source": [
    "# 情報源（publisher）が”Reuters”, “Huffington Post”, “Businessweek”, “Contactmusic.com”,\n",
    "# “Daily Mail”の事例（記事）のみを抽出する\n",
    "\n",
    "\"\"\"\n",
    "pep-8のお行儀重視すると,もうちょっと分割して書いた方が読みやすい\n",
    "\"\"\"\n",
    "df_target = df_news_corpora[(df_news_corpora.PUBLISHER == 'Reuters') | (df_news_corpora.PUBLISHER == 'Huffington Post') | \n",
    "                            (df_news_corpora.PUBLISHER == 'Businessweek') | (df_news_corpora.PUBLISHER == 'Contactmusic.com') | \n",
    "                            (df_news_corpora.PUBLISHER == 'Daily Mail')]"
   ]
  },
  {
   "cell_type": "code",
   "execution_count": 46,
   "metadata": {},
   "outputs": [
    {
     "name": "stderr",
     "output_type": "stream",
     "text": [
      "<ipython-input-46-8be51edb3aa2>:1: UserWarning: Boolean Series key will be reindexed to match DataFrame index.\n",
      "  df_target[df_news_corpora.PUBLISHER == 'Reuters']\n"
     ]
    },
    {
     "data": {
      "text/html": [
       "<div>\n",
       "<style scoped>\n",
       "    .dataframe tbody tr th:only-of-type {\n",
       "        vertical-align: middle;\n",
       "    }\n",
       "\n",
       "    .dataframe tbody tr th {\n",
       "        vertical-align: top;\n",
       "    }\n",
       "\n",
       "    .dataframe thead th {\n",
       "        text-align: right;\n",
       "    }\n",
       "</style>\n",
       "<table border=\"1\" class=\"dataframe\">\n",
       "  <thead>\n",
       "    <tr style=\"text-align: right;\">\n",
       "      <th></th>\n",
       "      <th>ID</th>\n",
       "      <th>TITLE</th>\n",
       "      <th>URL</th>\n",
       "      <th>PUBLISHER</th>\n",
       "      <th>CATEGORY</th>\n",
       "      <th>STORY</th>\n",
       "      <th>HOSTNAME</th>\n",
       "      <th>TIMESTAMP</th>\n",
       "    </tr>\n",
       "  </thead>\n",
       "  <tbody>\n",
       "    <tr>\n",
       "      <th>12</th>\n",
       "      <td>13</td>\n",
       "      <td>Europe reaches crunch point on banking union</td>\n",
       "      <td>http://in.reuters.com/article/2014/03/10/eu-ba...</td>\n",
       "      <td>Reuters</td>\n",
       "      <td>b</td>\n",
       "      <td>dPhGU51DcrolUIMxbRm0InaHGA2XM</td>\n",
       "      <td>in.reuters.com</td>\n",
       "      <td>1394470501755</td>\n",
       "    </tr>\n",
       "    <tr>\n",
       "      <th>13</th>\n",
       "      <td>14</td>\n",
       "      <td>ECB FOCUS-Stronger euro drowns out ECB's messa...</td>\n",
       "      <td>http://in.reuters.com/article/2014/03/10/ecb-p...</td>\n",
       "      <td>Reuters</td>\n",
       "      <td>b</td>\n",
       "      <td>dPhGU51DcrolUIMxbRm0InaHGA2XM</td>\n",
       "      <td>in.reuters.com</td>\n",
       "      <td>1394470501948</td>\n",
       "    </tr>\n",
       "    <tr>\n",
       "      <th>29</th>\n",
       "      <td>30</td>\n",
       "      <td>REFILE-Bad loan triggers key feature in ECB ba...</td>\n",
       "      <td>http://in.reuters.com/article/2014/03/10/euroz...</td>\n",
       "      <td>Reuters</td>\n",
       "      <td>b</td>\n",
       "      <td>dPhGU51DcrolUIMxbRm0InaHGA2XM</td>\n",
       "      <td>in.reuters.com</td>\n",
       "      <td>1394470505070</td>\n",
       "    </tr>\n",
       "    <tr>\n",
       "      <th>30</th>\n",
       "      <td>31</td>\n",
       "      <td>UPDATE 1-ECB to reveal bad loan hurdles for eu...</td>\n",
       "      <td>http://in.reuters.com/article/2014/03/10/euroz...</td>\n",
       "      <td>Reuters</td>\n",
       "      <td>b</td>\n",
       "      <td>dPhGU51DcrolUIMxbRm0InaHGA2XM</td>\n",
       "      <td>in.reuters.com</td>\n",
       "      <td>1394470505314</td>\n",
       "    </tr>\n",
       "    <tr>\n",
       "      <th>35</th>\n",
       "      <td>36</td>\n",
       "      <td>Central banks must contain threats from low pr...</td>\n",
       "      <td>http://www.reuters.com/article/2014/03/10/us-e...</td>\n",
       "      <td>Reuters</td>\n",
       "      <td>b</td>\n",
       "      <td>dPhGU51DcrolUIMxbRm0InaHGA2XM</td>\n",
       "      <td>www.reuters.com</td>\n",
       "      <td>1394470506238</td>\n",
       "    </tr>\n",
       "    <tr>\n",
       "      <th>...</th>\n",
       "      <td>...</td>\n",
       "      <td>...</td>\n",
       "      <td>...</td>\n",
       "      <td>...</td>\n",
       "      <td>...</td>\n",
       "      <td>...</td>\n",
       "      <td>...</td>\n",
       "      <td>...</td>\n",
       "    </tr>\n",
       "    <tr>\n",
       "      <th>421935</th>\n",
       "      <td>422454</td>\n",
       "      <td>UPDATE 2-US names Connecticut official to lead...</td>\n",
       "      <td>http://www.reuters.com/article/2014/08/26/usa-...</td>\n",
       "      <td>Reuters</td>\n",
       "      <td>m</td>\n",
       "      <td>drbHX2-GkgsIZjMovsFKIC2IOEHBM</td>\n",
       "      <td>www.reuters.com</td>\n",
       "      <td>1409225963448</td>\n",
       "    </tr>\n",
       "    <tr>\n",
       "      <th>422139</th>\n",
       "      <td>422658</td>\n",
       "      <td>UPDATE 1-US says non-allergic peanut moves clo...</td>\n",
       "      <td>http://www.reuters.com/article/2014/08/26/usda...</td>\n",
       "      <td>Reuters</td>\n",
       "      <td>m</td>\n",
       "      <td>dfKgd72ObUoZQ2Mr8OpGVrzdfspUM</td>\n",
       "      <td>www.reuters.com</td>\n",
       "      <td>1409227750846</td>\n",
       "    </tr>\n",
       "    <tr>\n",
       "      <th>422141</th>\n",
       "      <td>422660</td>\n",
       "      <td>US says non-allergic peanut closer to commerci...</td>\n",
       "      <td>http://www.reuters.com/article/2014/08/26/usda...</td>\n",
       "      <td>Reuters</td>\n",
       "      <td>m</td>\n",
       "      <td>dfKgd72ObUoZQ2Mr8OpGVrzdfspUM</td>\n",
       "      <td>www.reuters.com</td>\n",
       "      <td>1409227751327</td>\n",
       "    </tr>\n",
       "    <tr>\n",
       "      <th>422301</th>\n",
       "      <td>422820</td>\n",
       "      <td>Ebola toll tops 1550, continues to accelerate ...</td>\n",
       "      <td>http://in.reuters.com/article/2014/08/28/healt...</td>\n",
       "      <td>Reuters</td>\n",
       "      <td>m</td>\n",
       "      <td>dhhnSHVoyA7ENBM3boDX_D_-3PV6M</td>\n",
       "      <td>in.reuters.com</td>\n",
       "      <td>1409228423827</td>\n",
       "    </tr>\n",
       "    <tr>\n",
       "      <th>422302</th>\n",
       "      <td>422821</td>\n",
       "      <td>UPDATE 1-Ebola toll tops 1550, outbreak accele...</td>\n",
       "      <td>http://in.reuters.com/article/2014/08/28/healt...</td>\n",
       "      <td>Reuters</td>\n",
       "      <td>m</td>\n",
       "      <td>dhhnSHVoyA7ENBM3boDX_D_-3PV6M</td>\n",
       "      <td>in.reuters.com</td>\n",
       "      <td>1409228424525</td>\n",
       "    </tr>\n",
       "  </tbody>\n",
       "</table>\n",
       "<p>3902 rows × 8 columns</p>\n",
       "</div>"
      ],
      "text/plain": [
       "            ID                                              TITLE  \\\n",
       "12          13       Europe reaches crunch point on banking union   \n",
       "13          14  ECB FOCUS-Stronger euro drowns out ECB's messa...   \n",
       "29          30  REFILE-Bad loan triggers key feature in ECB ba...   \n",
       "30          31  UPDATE 1-ECB to reveal bad loan hurdles for eu...   \n",
       "35          36  Central banks must contain threats from low pr...   \n",
       "...        ...                                                ...   \n",
       "421935  422454  UPDATE 2-US names Connecticut official to lead...   \n",
       "422139  422658  UPDATE 1-US says non-allergic peanut moves clo...   \n",
       "422141  422660  US says non-allergic peanut closer to commerci...   \n",
       "422301  422820  Ebola toll tops 1550, continues to accelerate ...   \n",
       "422302  422821  UPDATE 1-Ebola toll tops 1550, outbreak accele...   \n",
       "\n",
       "                                                      URL PUBLISHER CATEGORY  \\\n",
       "12      http://in.reuters.com/article/2014/03/10/eu-ba...   Reuters        b   \n",
       "13      http://in.reuters.com/article/2014/03/10/ecb-p...   Reuters        b   \n",
       "29      http://in.reuters.com/article/2014/03/10/euroz...   Reuters        b   \n",
       "30      http://in.reuters.com/article/2014/03/10/euroz...   Reuters        b   \n",
       "35      http://www.reuters.com/article/2014/03/10/us-e...   Reuters        b   \n",
       "...                                                   ...       ...      ...   \n",
       "421935  http://www.reuters.com/article/2014/08/26/usa-...   Reuters        m   \n",
       "422139  http://www.reuters.com/article/2014/08/26/usda...   Reuters        m   \n",
       "422141  http://www.reuters.com/article/2014/08/26/usda...   Reuters        m   \n",
       "422301  http://in.reuters.com/article/2014/08/28/healt...   Reuters        m   \n",
       "422302  http://in.reuters.com/article/2014/08/28/healt...   Reuters        m   \n",
       "\n",
       "                                STORY         HOSTNAME      TIMESTAMP  \n",
       "12      dPhGU51DcrolUIMxbRm0InaHGA2XM   in.reuters.com  1394470501755  \n",
       "13      dPhGU51DcrolUIMxbRm0InaHGA2XM   in.reuters.com  1394470501948  \n",
       "29      dPhGU51DcrolUIMxbRm0InaHGA2XM   in.reuters.com  1394470505070  \n",
       "30      dPhGU51DcrolUIMxbRm0InaHGA2XM   in.reuters.com  1394470505314  \n",
       "35      dPhGU51DcrolUIMxbRm0InaHGA2XM  www.reuters.com  1394470506238  \n",
       "...                               ...              ...            ...  \n",
       "421935  drbHX2-GkgsIZjMovsFKIC2IOEHBM  www.reuters.com  1409225963448  \n",
       "422139  dfKgd72ObUoZQ2Mr8OpGVrzdfspUM  www.reuters.com  1409227750846  \n",
       "422141  dfKgd72ObUoZQ2Mr8OpGVrzdfspUM  www.reuters.com  1409227751327  \n",
       "422301  dhhnSHVoyA7ENBM3boDX_D_-3PV6M   in.reuters.com  1409228423827  \n",
       "422302  dhhnSHVoyA7ENBM3boDX_D_-3PV6M   in.reuters.com  1409228424525  \n",
       "\n",
       "[3902 rows x 8 columns]"
      ]
     },
     "execution_count": 46,
     "metadata": {},
     "output_type": "execute_result"
    }
   ],
   "source": [
    "df_target[df_news_corpora.PUBLISHER == 'Reuters']"
   ]
  },
  {
   "cell_type": "code",
   "execution_count": 13,
   "metadata": {},
   "outputs": [
    {
     "data": {
      "text/html": [
       "<div>\n",
       "<style scoped>\n",
       "    .dataframe tbody tr th:only-of-type {\n",
       "        vertical-align: middle;\n",
       "    }\n",
       "\n",
       "    .dataframe tbody tr th {\n",
       "        vertical-align: top;\n",
       "    }\n",
       "\n",
       "    .dataframe thead th {\n",
       "        text-align: right;\n",
       "    }\n",
       "</style>\n",
       "<table border=\"1\" class=\"dataframe\">\n",
       "  <thead>\n",
       "    <tr style=\"text-align: right;\">\n",
       "      <th></th>\n",
       "      <th>TITLE</th>\n",
       "      <th>CATEGORY</th>\n",
       "      <th>PUBLISHER</th>\n",
       "    </tr>\n",
       "  </thead>\n",
       "  <tbody>\n",
       "    <tr>\n",
       "      <th>12</th>\n",
       "      <td>Europe reaches crunch point on banking union</td>\n",
       "      <td>b</td>\n",
       "      <td>Reuters</td>\n",
       "    </tr>\n",
       "    <tr>\n",
       "      <th>13</th>\n",
       "      <td>ECB FOCUS-Stronger euro drowns out ECB's messa...</td>\n",
       "      <td>b</td>\n",
       "      <td>Reuters</td>\n",
       "    </tr>\n",
       "    <tr>\n",
       "      <th>19</th>\n",
       "      <td>Euro Anxieties Wane as Bunds Top Treasuries, S...</td>\n",
       "      <td>b</td>\n",
       "      <td>Businessweek</td>\n",
       "    </tr>\n",
       "  </tbody>\n",
       "</table>\n",
       "</div>"
      ],
      "text/plain": [
       "                                                TITLE CATEGORY     PUBLISHER\n",
       "12       Europe reaches crunch point on banking union        b       Reuters\n",
       "13  ECB FOCUS-Stronger euro drowns out ECB's messa...        b       Reuters\n",
       "19  Euro Anxieties Wane as Bunds Top Treasuries, S...        b  Businessweek"
      ]
     },
     "execution_count": 13,
     "metadata": {},
     "output_type": "execute_result"
    }
   ],
   "source": [
    "df_target = df_target[['TITLE', 'CATEGORY', 'PUBLISHER']]\n",
    "df_target.head(3)"
   ]
  },
  {
   "cell_type": "code",
   "execution_count": 14,
   "metadata": {},
   "outputs": [
    {
     "data": {
      "text/html": [
       "<div>\n",
       "<style scoped>\n",
       "    .dataframe tbody tr th:only-of-type {\n",
       "        vertical-align: middle;\n",
       "    }\n",
       "\n",
       "    .dataframe tbody tr th {\n",
       "        vertical-align: top;\n",
       "    }\n",
       "\n",
       "    .dataframe thead th {\n",
       "        text-align: right;\n",
       "    }\n",
       "</style>\n",
       "<table border=\"1\" class=\"dataframe\">\n",
       "  <thead>\n",
       "    <tr style=\"text-align: right;\">\n",
       "      <th></th>\n",
       "      <th>TITLE</th>\n",
       "      <th>CATEGORY</th>\n",
       "      <th>PUBLISHER</th>\n",
       "    </tr>\n",
       "  </thead>\n",
       "  <tbody>\n",
       "    <tr>\n",
       "      <th>0</th>\n",
       "      <td>RPT-Fitch Updates EMEA Consumer ABS Rating Cri...</td>\n",
       "      <td>b</td>\n",
       "      <td>Reuters</td>\n",
       "    </tr>\n",
       "    <tr>\n",
       "      <th>1</th>\n",
       "      <td>Gurlitt Wants to Return Nazi-Looted Art, Suedd...</td>\n",
       "      <td>e</td>\n",
       "      <td>Businessweek</td>\n",
       "    </tr>\n",
       "    <tr>\n",
       "      <th>2</th>\n",
       "      <td>UPDATE 1-Fairfax Financial, CEO probed over po...</td>\n",
       "      <td>b</td>\n",
       "      <td>Reuters</td>\n",
       "    </tr>\n",
       "  </tbody>\n",
       "</table>\n",
       "</div>"
      ],
      "text/plain": [
       "                                               TITLE CATEGORY     PUBLISHER\n",
       "0  RPT-Fitch Updates EMEA Consumer ABS Rating Cri...        b       Reuters\n",
       "1  Gurlitt Wants to Return Nazi-Looted Art, Suedd...        e  Businessweek\n",
       "2  UPDATE 1-Fairfax Financial, CEO probed over po...        b       Reuters"
      ]
     },
     "execution_count": 14,
     "metadata": {},
     "output_type": "execute_result"
    }
   ],
   "source": [
    "# 抽出された事例をランダムに並び替える & インデックスのふり直し\n",
    "df_target = df_target.sample(frac=1, random_state=0).reset_index(drop=True)\n",
    "df_target.head(3)"
   ]
  },
  {
   "cell_type": "code",
   "execution_count": 15,
   "metadata": {},
   "outputs": [],
   "source": [
    "\"\"\"\n",
    "scikit-learnのtrain_test_splitを2回使ってやるとかだともっとコード少なくて済む！\n",
    "random_stateでシード値固定して再現性を担保！\n",
    "\"\"\"\n",
    "len_eighty = int(len(df_target)*0.8)\n",
    "len_ninety = int(len(df_target)*0.9)\n",
    "df_train = df_target[:len_eighty]\n",
    "df_valid = df_target[len_eighty:len_ninety]\n",
    "df_test = df_target[len_ninety:]"
   ]
  },
  {
   "cell_type": "code",
   "execution_count": 16,
   "metadata": {},
   "outputs": [
    {
     "name": "stdout",
     "output_type": "stream",
     "text": [
      "分割前のファイル全体 = 13340\n",
      "df_train = 10672 + df_valid = 1334 + df_test = 1334, sum = 13340\n"
     ]
    }
   ],
   "source": [
    "# 分割数の確認\n",
    "print(f'分割前のファイル全体 = {len(df_target)}')\n",
    "print(f'df_train = {len(df_train)} + df_valid = {len(df_valid)} + df_test = {len(df_test)}, sum = {len(df_test)+len(df_valid)+len(df_train)}')"
   ]
  },
  {
   "cell_type": "code",
   "execution_count": 9,
   "metadata": {},
   "outputs": [],
   "source": [
    "# ファイルの書き出し\n",
    "df_train.to_csv('../Chap8/train.txt', sep='\\t')\n",
    "df_valid.to_csv('../Chap8/valid.txt', sep='\\t')\n",
    "df_test.to_csv('../Chap8/test.txt', sep='\\t')"
   ]
  },
  {
   "cell_type": "code",
   "execution_count": 17,
   "metadata": {},
   "outputs": [
    {
     "name": "stdout",
     "output_type": "stream",
     "text": [
      "df_train: Reuters             3098\n",
      "Huffington Post     1968\n",
      "Businessweek        1928\n",
      "Contactmusic.com    1865\n",
      "Daily Mail          1813\n",
      "Name: PUBLISHER, dtype: int64\n"
     ]
    },
    {
     "data": {
      "image/png": "[encoded data removed]",
      "text/plain": [
       "<Figure size 432x288 with 1 Axes>"
      ]
     },
     "metadata": {
      "needs_background": "light"
     },
     "output_type": "display_data"
    }
   ],
   "source": [
    "# 各カテゴリの事例数を確認\n",
    "import seaborn as sns\n",
    "print(f'df_train: {df_train.PUBLISHER.value_counts()}')\n",
    "sns.countplot(df_train.PUBLISHER);"
   ]
  },
  {
   "cell_type": "code",
   "execution_count": null,
   "metadata": {},
   "outputs": [],
   "source": [
    "print(f'df_train: {df_train.CATEGORY.value_counts()}')\n",
    "sns.countplot(df_train.CATEGORY);"
   ]
  },
  {
   "cell_type": "code",
   "execution_count": 10,
   "metadata": {},
   "outputs": [
    {
     "name": "stdout",
     "output_type": "stream",
     "text": [
      "df_valid: b    570\n",
      "e    530\n",
      "t    137\n",
      "m     97\n",
      "Name: CATEGORY, dtype: int64\n"
     ]
    },
    {
     "data": {
      "image/png": "[encoded data removed]",
      "text/plain": [
       "<Figure size 432x288 with 1 Axes>"
      ]
     },
     "metadata": {
      "needs_background": "light"
     },
     "output_type": "display_data"
    }
   ],
   "source": [
    "print(f'df_valid: {df_valid.CATEGORY.value_counts()}')\n",
    "sns.countplot(df_valid.CATEGORY);"
   ]
  },
  {
   "cell_type": "code",
   "execution_count": 11,
   "metadata": {},
   "outputs": [
    {
     "name": "stdout",
     "output_type": "stream",
     "text": [
      "df_test: b    564\n",
      "e    517\n",
      "t    157\n",
      "m     96\n",
      "Name: CATEGORY, dtype: int64\n"
     ]
    },
    {
     "data": {
      "image/png": "[encoded data removed]",
      "text/plain": [
       "<Figure size 432x288 with 1 Axes>"
      ]
     },
     "metadata": {
      "needs_background": "light"
     },
     "output_type": "display_data"
    }
   ],
   "source": [
    "print(f'df_test: {df_test.CATEGORY.value_counts()}')\n",
    "sns.countplot(df_test.CATEGORY);"
   ]
  },
  {
   "cell_type": "markdown",
   "metadata": {},
   "source": [
    "## 51. 特徴量抽出\n",
    ">学習データ，検証データ，評価データから特徴量を抽出し，それぞれtrain.feature.txt，valid.feature.txt，test.feature.txtというファイル名で保存せよ． なお，カテゴリ分類に有用そうな特徴量は各自で自由に設計せよ．記事の見出しを単語列に変換したものが最低限のベースラインとなるであろう．"
   ]
  },
  {
   "cell_type": "markdown",
   "metadata": {},
   "source": [
    "単語の出現頻度を求める -> scikit learnのCountVetorizerで簡単に求められる  \n",
    "出現頻度を求める方法は特徴量抽出という手法を用いる.  \n",
    "特徴量抽出とは、学習データにどのような特徴があるかをベクトル化したもので、今回のケースでは単語の出現頻度がベクトル（数値）にあたる."
   ]
  },
  {
   "cell_type": "code",
   "execution_count": 12,
   "metadata": {},
   "outputs": [
    {
     "data": {
      "text/html": [
       "<div>\n",
       "<style scoped>\n",
       "    .dataframe tbody tr th:only-of-type {\n",
       "        vertical-align: middle;\n",
       "    }\n",
       "\n",
       "    .dataframe tbody tr th {\n",
       "        vertical-align: top;\n",
       "    }\n",
       "\n",
       "    .dataframe thead th {\n",
       "        text-align: right;\n",
       "    }\n",
       "</style>\n",
       "<table border=\"1\" class=\"dataframe\">\n",
       "  <thead>\n",
       "    <tr style=\"text-align: right;\">\n",
       "      <th></th>\n",
       "      <th>ID</th>\n",
       "      <th>TITLE</th>\n",
       "      <th>URL</th>\n",
       "      <th>PUBLISHER</th>\n",
       "      <th>CATEGORY</th>\n",
       "      <th>STORY</th>\n",
       "      <th>HOSTNAME</th>\n",
       "      <th>TIMESTAMP</th>\n",
       "    </tr>\n",
       "  </thead>\n",
       "  <tbody>\n",
       "    <tr>\n",
       "      <th>0</th>\n",
       "      <td>311098</td>\n",
       "      <td>RPT-Fitch Updates EMEA Consumer ABS Rating Cri...</td>\n",
       "      <td>http://in.reuters.com/article/2014/06/24/fitch...</td>\n",
       "      <td>Reuters</td>\n",
       "      <td>b</td>\n",
       "      <td>d3tIMfB2mg-9MZM4G_jGTEiRVl3jM</td>\n",
       "      <td>in.reuters.com</td>\n",
       "      <td>1403633888597</td>\n",
       "    </tr>\n",
       "    <tr>\n",
       "      <th>1</th>\n",
       "      <td>49198</td>\n",
       "      <td>Gurlitt Wants to Return Nazi-Looted Art, Suedd...</td>\n",
       "      <td>http://www.businessweek.com/news/2014-03-26/gu...</td>\n",
       "      <td>Businessweek</td>\n",
       "      <td>e</td>\n",
       "      <td>dWeC4g3bvX-bI6MKAcxt43Jp7MzSM</td>\n",
       "      <td>www.businessweek.com</td>\n",
       "      <td>1395886231417</td>\n",
       "    </tr>\n",
       "    <tr>\n",
       "      <th>2</th>\n",
       "      <td>410578</td>\n",
       "      <td>UPDATE 1-Fairfax Financial, CEO probed over po...</td>\n",
       "      <td>http://in.reuters.com/article/2014/08/01/fairf...</td>\n",
       "      <td>Reuters</td>\n",
       "      <td>b</td>\n",
       "      <td>d6s61cXf9rASExMO8inpkRujc9VTM</td>\n",
       "      <td>in.reuters.com</td>\n",
       "      <td>1406929609070</td>\n",
       "    </tr>\n",
       "  </tbody>\n",
       "</table>\n",
       "</div>"
      ],
      "text/plain": [
       "       ID                                              TITLE  \\\n",
       "0  311098  RPT-Fitch Updates EMEA Consumer ABS Rating Cri...   \n",
       "1   49198  Gurlitt Wants to Return Nazi-Looted Art, Suedd...   \n",
       "2  410578  UPDATE 1-Fairfax Financial, CEO probed over po...   \n",
       "\n",
       "                                                 URL     PUBLISHER CATEGORY  \\\n",
       "0  http://in.reuters.com/article/2014/06/24/fitch...       Reuters        b   \n",
       "1  http://www.businessweek.com/news/2014-03-26/gu...  Businessweek        e   \n",
       "2  http://in.reuters.com/article/2014/08/01/fairf...       Reuters        b   \n",
       "\n",
       "                           STORY              HOSTNAME      TIMESTAMP  \n",
       "0  d3tIMfB2mg-9MZM4G_jGTEiRVl3jM        in.reuters.com  1403633888597  \n",
       "1  dWeC4g3bvX-bI6MKAcxt43Jp7MzSM  www.businessweek.com  1395886231417  \n",
       "2  d6s61cXf9rASExMO8inpkRujc9VTM        in.reuters.com  1406929609070  "
      ]
     },
     "execution_count": 12,
     "metadata": {},
     "output_type": "execute_result"
    }
   ],
   "source": [
    "df_train.head(3)"
   ]
  },
  {
   "cell_type": "code",
   "execution_count": 13,
   "metadata": {},
   "outputs": [
    {
     "name": "stdout",
     "output_type": "stream",
     "text": [
      "Vocabulary size: 7\n",
      "Vocabulary content: {'apple': 0, 'computer': 1, 'of': 4, 'the': 5, 'mark': 3, 'linux': 2, 'windows': 6}\n"
     ]
    },
    {
     "data": {
      "text/html": [
       "<div>\n",
       "<style scoped>\n",
       "    .dataframe tbody tr th:only-of-type {\n",
       "        vertical-align: middle;\n",
       "    }\n",
       "\n",
       "    .dataframe tbody tr th {\n",
       "        vertical-align: top;\n",
       "    }\n",
       "\n",
       "    .dataframe thead th {\n",
       "        text-align: right;\n",
       "    }\n",
       "</style>\n",
       "<table border=\"1\" class=\"dataframe\">\n",
       "  <thead>\n",
       "    <tr style=\"text-align: right;\">\n",
       "      <th></th>\n",
       "      <th>apple</th>\n",
       "      <th>computer</th>\n",
       "      <th>linux</th>\n",
       "      <th>mark</th>\n",
       "      <th>of</th>\n",
       "      <th>the</th>\n",
       "      <th>windows</th>\n",
       "    </tr>\n",
       "  </thead>\n",
       "  <tbody>\n",
       "    <tr>\n",
       "      <th>0</th>\n",
       "      <td>2</td>\n",
       "      <td>1</td>\n",
       "      <td>0</td>\n",
       "      <td>1</td>\n",
       "      <td>1</td>\n",
       "      <td>1</td>\n",
       "      <td>0</td>\n",
       "    </tr>\n",
       "    <tr>\n",
       "      <th>1</th>\n",
       "      <td>0</td>\n",
       "      <td>1</td>\n",
       "      <td>1</td>\n",
       "      <td>0</td>\n",
       "      <td>0</td>\n",
       "      <td>0</td>\n",
       "      <td>0</td>\n",
       "    </tr>\n",
       "    <tr>\n",
       "      <th>2</th>\n",
       "      <td>0</td>\n",
       "      <td>1</td>\n",
       "      <td>0</td>\n",
       "      <td>0</td>\n",
       "      <td>0</td>\n",
       "      <td>0</td>\n",
       "      <td>1</td>\n",
       "    </tr>\n",
       "  </tbody>\n",
       "</table>\n",
       "</div>"
      ],
      "text/plain": [
       "   apple  computer  linux  mark  of  the  windows\n",
       "0      2         1      0     1   1    1        0\n",
       "1      0         1      1     0   0    0        0\n",
       "2      0         1      0     0   0    0        1"
      ]
     },
     "execution_count": 13,
     "metadata": {},
     "output_type": "execute_result"
    }
   ],
   "source": [
    "# CountVectorizerのデモ(BoW化)\n",
    "\n",
    "from sklearn.feature_extraction.text import CountVectorizer\n",
    "\n",
    "# ベクトル化する文字列(3文)\n",
    "sample = np.array(['Apple computer of the apple mark', 'linux computer', 'windows computer'])\n",
    "\n",
    "# CountVectorizer\n",
    "vec_count = CountVectorizer()\n",
    "\n",
    "# ベクトル化\n",
    "vec_count.fit(sample)\n",
    "X = vec_count.transform(sample)\n",
    "\n",
    "print('Vocabulary size: {}'.format(len(vec_count.vocabulary_)))\n",
    "print('Vocabulary content: {}'.format(vec_count.vocabulary_))\n",
    "\n",
    "pd.DataFrame(X.toarray(), columns=vec_count.get_feature_names())"
   ]
  },
  {
   "cell_type": "markdown",
   "metadata": {},
   "source": [
    "CountVectorizerの弱点を補う手法としてTF-IDFのVectorizerがある.  \n",
    "以下にTfidfVectorizerのデモを掲示する."
   ]
  },
  {
   "cell_type": "code",
   "execution_count": 14,
   "metadata": {},
   "outputs": [
    {
     "name": "stdout",
     "output_type": "stream",
     "text": [
      "Vocabulary size: 7\n",
      "Vocabulary content: {'apple': 0, 'computer': 1, 'of': 4, 'the': 5, 'mark': 3, 'linux': 2, 'windows': 6}\n"
     ]
    },
    {
     "data": {
      "text/html": [
       "<div>\n",
       "<style scoped>\n",
       "    .dataframe tbody tr th:only-of-type {\n",
       "        vertical-align: middle;\n",
       "    }\n",
       "\n",
       "    .dataframe tbody tr th {\n",
       "        vertical-align: top;\n",
       "    }\n",
       "\n",
       "    .dataframe thead th {\n",
       "        text-align: right;\n",
       "    }\n",
       "</style>\n",
       "<table border=\"1\" class=\"dataframe\">\n",
       "  <thead>\n",
       "    <tr style=\"text-align: right;\">\n",
       "      <th></th>\n",
       "      <th>apple</th>\n",
       "      <th>computer</th>\n",
       "      <th>linux</th>\n",
       "      <th>mark</th>\n",
       "      <th>of</th>\n",
       "      <th>the</th>\n",
       "      <th>windows</th>\n",
       "    </tr>\n",
       "  </thead>\n",
       "  <tbody>\n",
       "    <tr>\n",
       "      <th>0</th>\n",
       "      <td>0.73777</td>\n",
       "      <td>0.217869</td>\n",
       "      <td>0.000000</td>\n",
       "      <td>0.368885</td>\n",
       "      <td>0.368885</td>\n",
       "      <td>0.368885</td>\n",
       "      <td>0.000000</td>\n",
       "    </tr>\n",
       "    <tr>\n",
       "      <th>1</th>\n",
       "      <td>0.00000</td>\n",
       "      <td>0.508542</td>\n",
       "      <td>0.861037</td>\n",
       "      <td>0.000000</td>\n",
       "      <td>0.000000</td>\n",
       "      <td>0.000000</td>\n",
       "      <td>0.000000</td>\n",
       "    </tr>\n",
       "    <tr>\n",
       "      <th>2</th>\n",
       "      <td>0.00000</td>\n",
       "      <td>0.508542</td>\n",
       "      <td>0.000000</td>\n",
       "      <td>0.000000</td>\n",
       "      <td>0.000000</td>\n",
       "      <td>0.000000</td>\n",
       "      <td>0.861037</td>\n",
       "    </tr>\n",
       "  </tbody>\n",
       "</table>\n",
       "</div>"
      ],
      "text/plain": [
       "     apple  computer     linux      mark        of       the   windows\n",
       "0  0.73777  0.217869  0.000000  0.368885  0.368885  0.368885  0.000000\n",
       "1  0.00000  0.508542  0.861037  0.000000  0.000000  0.000000  0.000000\n",
       "2  0.00000  0.508542  0.000000  0.000000  0.000000  0.000000  0.861037"
      ]
     },
     "execution_count": 14,
     "metadata": {},
     "output_type": "execute_result"
    }
   ],
   "source": [
    "# TfidfVectorizerのデモ(TF-IDF化)\n",
    "\n",
    "from sklearn.feature_extraction.text import TfidfVectorizer\n",
    "\n",
    "# ベクトル化する文字列\n",
    "sample = np.array(['Apple computer of the apple mark', 'linux computer', 'windows computer'])\n",
    "\n",
    "# TfidfVectorizer\n",
    "vec_tfidf = TfidfVectorizer()\n",
    "\n",
    "# ベクトル化\n",
    "X = vec_tfidf.fit_transform(sample)\n",
    "\n",
    "print('Vocabulary size: {}'.format(len(vec_tfidf.vocabulary_)))\n",
    "print('Vocabulary content: {}'.format(vec_tfidf.vocabulary_))\n",
    "\n",
    "pd.DataFrame(X.toarray(), columns = vec_tfidf.get_feature_names())"
   ]
  },
  {
   "cell_type": "markdown",
   "metadata": {},
   "source": [
    "### 今回はTfidfVectorizerを用いて単語の特徴量抽出を行う.  "
   ]
  },
  {
   "cell_type": "code",
   "execution_count": 15,
   "metadata": {},
   "outputs": [
    {
     "name": "stdout",
     "output_type": "stream",
     "text": [
      "Vocabulary size: 12881\n"
     ]
    },
    {
     "data": {
      "text/html": [
       "<div>\n",
       "<style scoped>\n",
       "    .dataframe tbody tr th:only-of-type {\n",
       "        vertical-align: middle;\n",
       "    }\n",
       "\n",
       "    .dataframe tbody tr th {\n",
       "        vertical-align: top;\n",
       "    }\n",
       "\n",
       "    .dataframe thead th {\n",
       "        text-align: right;\n",
       "    }\n",
       "</style>\n",
       "<table border=\"1\" class=\"dataframe\">\n",
       "  <thead>\n",
       "    <tr style=\"text-align: right;\">\n",
       "      <th></th>\n",
       "      <th>00</th>\n",
       "      <th>05</th>\n",
       "      <th>07</th>\n",
       "      <th>08</th>\n",
       "      <th>0ff</th>\n",
       "      <th>0ut</th>\n",
       "      <th>10</th>\n",
       "      <th>100</th>\n",
       "      <th>1000</th>\n",
       "      <th>10000</th>\n",
       "      <th>...</th>\n",
       "      <th>zombies</th>\n",
       "      <th>zone</th>\n",
       "      <th>zoosk</th>\n",
       "      <th>zpfa3mqti7qdrpfhqwjm</th>\n",
       "      <th>zuckerberg</th>\n",
       "      <th>zynga</th>\n",
       "      <th>zâ</th>\n",
       "      <th>œf</th>\n",
       "      <th>œlousyâ</th>\n",
       "      <th>œwaist</th>\n",
       "    </tr>\n",
       "  </thead>\n",
       "  <tbody>\n",
       "    <tr>\n",
       "      <th>0</th>\n",
       "      <td>0.0</td>\n",
       "      <td>0.0</td>\n",
       "      <td>0.0</td>\n",
       "      <td>0.0</td>\n",
       "      <td>0.0</td>\n",
       "      <td>0.0</td>\n",
       "      <td>0.0</td>\n",
       "      <td>0.000000</td>\n",
       "      <td>0.0</td>\n",
       "      <td>0.0</td>\n",
       "      <td>...</td>\n",
       "      <td>0.0</td>\n",
       "      <td>0.0</td>\n",
       "      <td>0.0</td>\n",
       "      <td>0.0</td>\n",
       "      <td>0.0</td>\n",
       "      <td>0.0</td>\n",
       "      <td>0.0</td>\n",
       "      <td>0.0</td>\n",
       "      <td>0.0</td>\n",
       "      <td>0.0</td>\n",
       "    </tr>\n",
       "    <tr>\n",
       "      <th>1</th>\n",
       "      <td>0.0</td>\n",
       "      <td>0.0</td>\n",
       "      <td>0.0</td>\n",
       "      <td>0.0</td>\n",
       "      <td>0.0</td>\n",
       "      <td>0.0</td>\n",
       "      <td>0.0</td>\n",
       "      <td>0.000000</td>\n",
       "      <td>0.0</td>\n",
       "      <td>0.0</td>\n",
       "      <td>...</td>\n",
       "      <td>0.0</td>\n",
       "      <td>0.0</td>\n",
       "      <td>0.0</td>\n",
       "      <td>0.0</td>\n",
       "      <td>0.0</td>\n",
       "      <td>0.0</td>\n",
       "      <td>0.0</td>\n",
       "      <td>0.0</td>\n",
       "      <td>0.0</td>\n",
       "      <td>0.0</td>\n",
       "    </tr>\n",
       "    <tr>\n",
       "      <th>2</th>\n",
       "      <td>0.0</td>\n",
       "      <td>0.0</td>\n",
       "      <td>0.0</td>\n",
       "      <td>0.0</td>\n",
       "      <td>0.0</td>\n",
       "      <td>0.0</td>\n",
       "      <td>0.0</td>\n",
       "      <td>0.000000</td>\n",
       "      <td>0.0</td>\n",
       "      <td>0.0</td>\n",
       "      <td>...</td>\n",
       "      <td>0.0</td>\n",
       "      <td>0.0</td>\n",
       "      <td>0.0</td>\n",
       "      <td>0.0</td>\n",
       "      <td>0.0</td>\n",
       "      <td>0.0</td>\n",
       "      <td>0.0</td>\n",
       "      <td>0.0</td>\n",
       "      <td>0.0</td>\n",
       "      <td>0.0</td>\n",
       "    </tr>\n",
       "    <tr>\n",
       "      <th>3</th>\n",
       "      <td>0.0</td>\n",
       "      <td>0.0</td>\n",
       "      <td>0.0</td>\n",
       "      <td>0.0</td>\n",
       "      <td>0.0</td>\n",
       "      <td>0.0</td>\n",
       "      <td>0.0</td>\n",
       "      <td>0.000000</td>\n",
       "      <td>0.0</td>\n",
       "      <td>0.0</td>\n",
       "      <td>...</td>\n",
       "      <td>0.0</td>\n",
       "      <td>0.0</td>\n",
       "      <td>0.0</td>\n",
       "      <td>0.0</td>\n",
       "      <td>0.0</td>\n",
       "      <td>0.0</td>\n",
       "      <td>0.0</td>\n",
       "      <td>0.0</td>\n",
       "      <td>0.0</td>\n",
       "      <td>0.0</td>\n",
       "    </tr>\n",
       "    <tr>\n",
       "      <th>4</th>\n",
       "      <td>0.0</td>\n",
       "      <td>0.0</td>\n",
       "      <td>0.0</td>\n",
       "      <td>0.0</td>\n",
       "      <td>0.0</td>\n",
       "      <td>0.0</td>\n",
       "      <td>0.0</td>\n",
       "      <td>0.000000</td>\n",
       "      <td>0.0</td>\n",
       "      <td>0.0</td>\n",
       "      <td>...</td>\n",
       "      <td>0.0</td>\n",
       "      <td>0.0</td>\n",
       "      <td>0.0</td>\n",
       "      <td>0.0</td>\n",
       "      <td>0.0</td>\n",
       "      <td>0.0</td>\n",
       "      <td>0.0</td>\n",
       "      <td>0.0</td>\n",
       "      <td>0.0</td>\n",
       "      <td>0.0</td>\n",
       "    </tr>\n",
       "    <tr>\n",
       "      <th>...</th>\n",
       "      <td>...</td>\n",
       "      <td>...</td>\n",
       "      <td>...</td>\n",
       "      <td>...</td>\n",
       "      <td>...</td>\n",
       "      <td>...</td>\n",
       "      <td>...</td>\n",
       "      <td>...</td>\n",
       "      <td>...</td>\n",
       "      <td>...</td>\n",
       "      <td>...</td>\n",
       "      <td>...</td>\n",
       "      <td>...</td>\n",
       "      <td>...</td>\n",
       "      <td>...</td>\n",
       "      <td>...</td>\n",
       "      <td>...</td>\n",
       "      <td>...</td>\n",
       "      <td>...</td>\n",
       "      <td>...</td>\n",
       "      <td>...</td>\n",
       "    </tr>\n",
       "    <tr>\n",
       "      <th>10667</th>\n",
       "      <td>0.0</td>\n",
       "      <td>0.0</td>\n",
       "      <td>0.0</td>\n",
       "      <td>0.0</td>\n",
       "      <td>0.0</td>\n",
       "      <td>0.0</td>\n",
       "      <td>0.0</td>\n",
       "      <td>0.000000</td>\n",
       "      <td>0.0</td>\n",
       "      <td>0.0</td>\n",
       "      <td>...</td>\n",
       "      <td>0.0</td>\n",
       "      <td>0.0</td>\n",
       "      <td>0.0</td>\n",
       "      <td>0.0</td>\n",
       "      <td>0.0</td>\n",
       "      <td>0.0</td>\n",
       "      <td>0.0</td>\n",
       "      <td>0.0</td>\n",
       "      <td>0.0</td>\n",
       "      <td>0.0</td>\n",
       "    </tr>\n",
       "    <tr>\n",
       "      <th>10668</th>\n",
       "      <td>0.0</td>\n",
       "      <td>0.0</td>\n",
       "      <td>0.0</td>\n",
       "      <td>0.0</td>\n",
       "      <td>0.0</td>\n",
       "      <td>0.0</td>\n",
       "      <td>0.0</td>\n",
       "      <td>0.328642</td>\n",
       "      <td>0.0</td>\n",
       "      <td>0.0</td>\n",
       "      <td>...</td>\n",
       "      <td>0.0</td>\n",
       "      <td>0.0</td>\n",
       "      <td>0.0</td>\n",
       "      <td>0.0</td>\n",
       "      <td>0.0</td>\n",
       "      <td>0.0</td>\n",
       "      <td>0.0</td>\n",
       "      <td>0.0</td>\n",
       "      <td>0.0</td>\n",
       "      <td>0.0</td>\n",
       "    </tr>\n",
       "    <tr>\n",
       "      <th>10669</th>\n",
       "      <td>0.0</td>\n",
       "      <td>0.0</td>\n",
       "      <td>0.0</td>\n",
       "      <td>0.0</td>\n",
       "      <td>0.0</td>\n",
       "      <td>0.0</td>\n",
       "      <td>0.0</td>\n",
       "      <td>0.000000</td>\n",
       "      <td>0.0</td>\n",
       "      <td>0.0</td>\n",
       "      <td>...</td>\n",
       "      <td>0.0</td>\n",
       "      <td>0.0</td>\n",
       "      <td>0.0</td>\n",
       "      <td>0.0</td>\n",
       "      <td>0.0</td>\n",
       "      <td>0.0</td>\n",
       "      <td>0.0</td>\n",
       "      <td>0.0</td>\n",
       "      <td>0.0</td>\n",
       "      <td>0.0</td>\n",
       "    </tr>\n",
       "    <tr>\n",
       "      <th>10670</th>\n",
       "      <td>0.0</td>\n",
       "      <td>0.0</td>\n",
       "      <td>0.0</td>\n",
       "      <td>0.0</td>\n",
       "      <td>0.0</td>\n",
       "      <td>0.0</td>\n",
       "      <td>0.0</td>\n",
       "      <td>0.000000</td>\n",
       "      <td>0.0</td>\n",
       "      <td>0.0</td>\n",
       "      <td>...</td>\n",
       "      <td>0.0</td>\n",
       "      <td>0.0</td>\n",
       "      <td>0.0</td>\n",
       "      <td>0.0</td>\n",
       "      <td>0.0</td>\n",
       "      <td>0.0</td>\n",
       "      <td>0.0</td>\n",
       "      <td>0.0</td>\n",
       "      <td>0.0</td>\n",
       "      <td>0.0</td>\n",
       "    </tr>\n",
       "    <tr>\n",
       "      <th>10671</th>\n",
       "      <td>0.0</td>\n",
       "      <td>0.0</td>\n",
       "      <td>0.0</td>\n",
       "      <td>0.0</td>\n",
       "      <td>0.0</td>\n",
       "      <td>0.0</td>\n",
       "      <td>0.0</td>\n",
       "      <td>0.000000</td>\n",
       "      <td>0.0</td>\n",
       "      <td>0.0</td>\n",
       "      <td>...</td>\n",
       "      <td>0.0</td>\n",
       "      <td>0.0</td>\n",
       "      <td>0.0</td>\n",
       "      <td>0.0</td>\n",
       "      <td>0.0</td>\n",
       "      <td>0.0</td>\n",
       "      <td>0.0</td>\n",
       "      <td>0.0</td>\n",
       "      <td>0.0</td>\n",
       "      <td>0.0</td>\n",
       "    </tr>\n",
       "  </tbody>\n",
       "</table>\n",
       "<p>10672 rows × 12881 columns</p>\n",
       "</div>"
      ],
      "text/plain": [
       "        00   05   07   08  0ff  0ut   10       100  1000  10000  ...  zombies  \\\n",
       "0      0.0  0.0  0.0  0.0  0.0  0.0  0.0  0.000000   0.0    0.0  ...      0.0   \n",
       "1      0.0  0.0  0.0  0.0  0.0  0.0  0.0  0.000000   0.0    0.0  ...      0.0   \n",
       "2      0.0  0.0  0.0  0.0  0.0  0.0  0.0  0.000000   0.0    0.0  ...      0.0   \n",
       "3      0.0  0.0  0.0  0.0  0.0  0.0  0.0  0.000000   0.0    0.0  ...      0.0   \n",
       "4      0.0  0.0  0.0  0.0  0.0  0.0  0.0  0.000000   0.0    0.0  ...      0.0   \n",
       "...    ...  ...  ...  ...  ...  ...  ...       ...   ...    ...  ...      ...   \n",
       "10667  0.0  0.0  0.0  0.0  0.0  0.0  0.0  0.000000   0.0    0.0  ...      0.0   \n",
       "10668  0.0  0.0  0.0  0.0  0.0  0.0  0.0  0.328642   0.0    0.0  ...      0.0   \n",
       "10669  0.0  0.0  0.0  0.0  0.0  0.0  0.0  0.000000   0.0    0.0  ...      0.0   \n",
       "10670  0.0  0.0  0.0  0.0  0.0  0.0  0.0  0.000000   0.0    0.0  ...      0.0   \n",
       "10671  0.0  0.0  0.0  0.0  0.0  0.0  0.0  0.000000   0.0    0.0  ...      0.0   \n",
       "\n",
       "       zone  zoosk  zpfa3mqti7qdrpfhqwjm  zuckerberg  zynga   zâ   œf  \\\n",
       "0       0.0    0.0                   0.0         0.0    0.0  0.0  0.0   \n",
       "1       0.0    0.0                   0.0         0.0    0.0  0.0  0.0   \n",
       "2       0.0    0.0                   0.0         0.0    0.0  0.0  0.0   \n",
       "3       0.0    0.0                   0.0         0.0    0.0  0.0  0.0   \n",
       "4       0.0    0.0                   0.0         0.0    0.0  0.0  0.0   \n",
       "...     ...    ...                   ...         ...    ...  ...  ...   \n",
       "10667   0.0    0.0                   0.0         0.0    0.0  0.0  0.0   \n",
       "10668   0.0    0.0                   0.0         0.0    0.0  0.0  0.0   \n",
       "10669   0.0    0.0                   0.0         0.0    0.0  0.0  0.0   \n",
       "10670   0.0    0.0                   0.0         0.0    0.0  0.0  0.0   \n",
       "10671   0.0    0.0                   0.0         0.0    0.0  0.0  0.0   \n",
       "\n",
       "       œlousyâ  œwaist  \n",
       "0          0.0     0.0  \n",
       "1          0.0     0.0  \n",
       "2          0.0     0.0  \n",
       "3          0.0     0.0  \n",
       "4          0.0     0.0  \n",
       "...        ...     ...  \n",
       "10667      0.0     0.0  \n",
       "10668      0.0     0.0  \n",
       "10669      0.0     0.0  \n",
       "10670      0.0     0.0  \n",
       "10671      0.0     0.0  \n",
       "\n",
       "[10672 rows x 12881 columns]"
      ]
     },
     "execution_count": 15,
     "metadata": {},
     "output_type": "execute_result"
    }
   ],
   "source": [
    "vec_tfidf = TfidfVectorizer()\n",
    "\n",
    "# trainデータでfit\n",
    "X_train = vec_tfidf.fit_transform(df_train.TITLE).toarray()\n",
    "X_valid = vec_tfidf.transform(df_valid.TITLE).toarray()\n",
    "X_test = vec_tfidf.transform(df_test.TITLE).toarray()\n",
    "\n",
    "print('Vocabulary size: {}'.format(len(vec_tfidf.vocabulary_)))\n",
    "# print('Vocabulary content: {}'.format(vec_tfidf.vocabulary_))\n",
    "\n",
    "pd.DataFrame(X_train, columns = vec_tfidf.get_feature_names())"
   ]
  },
  {
   "cell_type": "code",
   "execution_count": 16,
   "metadata": {},
   "outputs": [
    {
     "data": {
      "text/html": [
       "<div>\n",
       "<style scoped>\n",
       "    .dataframe tbody tr th:only-of-type {\n",
       "        vertical-align: middle;\n",
       "    }\n",
       "\n",
       "    .dataframe tbody tr th {\n",
       "        vertical-align: top;\n",
       "    }\n",
       "\n",
       "    .dataframe thead th {\n",
       "        text-align: right;\n",
       "    }\n",
       "</style>\n",
       "<table border=\"1\" class=\"dataframe\">\n",
       "  <thead>\n",
       "    <tr style=\"text-align: right;\">\n",
       "      <th></th>\n",
       "      <th>00</th>\n",
       "      <th>05</th>\n",
       "      <th>07</th>\n",
       "      <th>08</th>\n",
       "      <th>0ff</th>\n",
       "      <th>0ut</th>\n",
       "      <th>10</th>\n",
       "      <th>100</th>\n",
       "      <th>1000</th>\n",
       "      <th>10000</th>\n",
       "      <th>...</th>\n",
       "      <th>zombies</th>\n",
       "      <th>zone</th>\n",
       "      <th>zoosk</th>\n",
       "      <th>zpfa3mqti7qdrpfhqwjm</th>\n",
       "      <th>zuckerberg</th>\n",
       "      <th>zynga</th>\n",
       "      <th>zâ</th>\n",
       "      <th>œf</th>\n",
       "      <th>œlousyâ</th>\n",
       "      <th>œwaist</th>\n",
       "    </tr>\n",
       "  </thead>\n",
       "  <tbody>\n",
       "    <tr>\n",
       "      <th>0</th>\n",
       "      <td>-0.013691</td>\n",
       "      <td>-0.00968</td>\n",
       "      <td>-0.00968</td>\n",
       "      <td>-0.00968</td>\n",
       "      <td>-0.00968</td>\n",
       "      <td>-0.00968</td>\n",
       "      <td>-0.083938</td>\n",
       "      <td>-0.056840</td>\n",
       "      <td>-0.028936</td>\n",
       "      <td>-0.00968</td>\n",
       "      <td>...</td>\n",
       "      <td>-0.00968</td>\n",
       "      <td>-0.0669</td>\n",
       "      <td>-0.00968</td>\n",
       "      <td>-0.00968</td>\n",
       "      <td>-0.019327</td>\n",
       "      <td>-0.016732</td>\n",
       "      <td>-0.00968</td>\n",
       "      <td>-0.00968</td>\n",
       "      <td>-0.00968</td>\n",
       "      <td>-0.00968</td>\n",
       "    </tr>\n",
       "    <tr>\n",
       "      <th>1</th>\n",
       "      <td>-0.013691</td>\n",
       "      <td>-0.00968</td>\n",
       "      <td>-0.00968</td>\n",
       "      <td>-0.00968</td>\n",
       "      <td>-0.00968</td>\n",
       "      <td>-0.00968</td>\n",
       "      <td>-0.083938</td>\n",
       "      <td>-0.056840</td>\n",
       "      <td>-0.028936</td>\n",
       "      <td>-0.00968</td>\n",
       "      <td>...</td>\n",
       "      <td>-0.00968</td>\n",
       "      <td>-0.0669</td>\n",
       "      <td>-0.00968</td>\n",
       "      <td>-0.00968</td>\n",
       "      <td>-0.019327</td>\n",
       "      <td>-0.016732</td>\n",
       "      <td>-0.00968</td>\n",
       "      <td>-0.00968</td>\n",
       "      <td>-0.00968</td>\n",
       "      <td>-0.00968</td>\n",
       "    </tr>\n",
       "    <tr>\n",
       "      <th>2</th>\n",
       "      <td>-0.013691</td>\n",
       "      <td>-0.00968</td>\n",
       "      <td>-0.00968</td>\n",
       "      <td>-0.00968</td>\n",
       "      <td>-0.00968</td>\n",
       "      <td>-0.00968</td>\n",
       "      <td>-0.083938</td>\n",
       "      <td>-0.056840</td>\n",
       "      <td>-0.028936</td>\n",
       "      <td>-0.00968</td>\n",
       "      <td>...</td>\n",
       "      <td>-0.00968</td>\n",
       "      <td>-0.0669</td>\n",
       "      <td>-0.00968</td>\n",
       "      <td>-0.00968</td>\n",
       "      <td>-0.019327</td>\n",
       "      <td>-0.016732</td>\n",
       "      <td>-0.00968</td>\n",
       "      <td>-0.00968</td>\n",
       "      <td>-0.00968</td>\n",
       "      <td>-0.00968</td>\n",
       "    </tr>\n",
       "    <tr>\n",
       "      <th>3</th>\n",
       "      <td>-0.013691</td>\n",
       "      <td>-0.00968</td>\n",
       "      <td>-0.00968</td>\n",
       "      <td>-0.00968</td>\n",
       "      <td>-0.00968</td>\n",
       "      <td>-0.00968</td>\n",
       "      <td>-0.083938</td>\n",
       "      <td>-0.056840</td>\n",
       "      <td>-0.028936</td>\n",
       "      <td>-0.00968</td>\n",
       "      <td>...</td>\n",
       "      <td>-0.00968</td>\n",
       "      <td>-0.0669</td>\n",
       "      <td>-0.00968</td>\n",
       "      <td>-0.00968</td>\n",
       "      <td>-0.019327</td>\n",
       "      <td>-0.016732</td>\n",
       "      <td>-0.00968</td>\n",
       "      <td>-0.00968</td>\n",
       "      <td>-0.00968</td>\n",
       "      <td>-0.00968</td>\n",
       "    </tr>\n",
       "    <tr>\n",
       "      <th>4</th>\n",
       "      <td>-0.013691</td>\n",
       "      <td>-0.00968</td>\n",
       "      <td>-0.00968</td>\n",
       "      <td>-0.00968</td>\n",
       "      <td>-0.00968</td>\n",
       "      <td>-0.00968</td>\n",
       "      <td>-0.083938</td>\n",
       "      <td>-0.056840</td>\n",
       "      <td>-0.028936</td>\n",
       "      <td>-0.00968</td>\n",
       "      <td>...</td>\n",
       "      <td>-0.00968</td>\n",
       "      <td>-0.0669</td>\n",
       "      <td>-0.00968</td>\n",
       "      <td>-0.00968</td>\n",
       "      <td>-0.019327</td>\n",
       "      <td>-0.016732</td>\n",
       "      <td>-0.00968</td>\n",
       "      <td>-0.00968</td>\n",
       "      <td>-0.00968</td>\n",
       "      <td>-0.00968</td>\n",
       "    </tr>\n",
       "    <tr>\n",
       "      <th>...</th>\n",
       "      <td>...</td>\n",
       "      <td>...</td>\n",
       "      <td>...</td>\n",
       "      <td>...</td>\n",
       "      <td>...</td>\n",
       "      <td>...</td>\n",
       "      <td>...</td>\n",
       "      <td>...</td>\n",
       "      <td>...</td>\n",
       "      <td>...</td>\n",
       "      <td>...</td>\n",
       "      <td>...</td>\n",
       "      <td>...</td>\n",
       "      <td>...</td>\n",
       "      <td>...</td>\n",
       "      <td>...</td>\n",
       "      <td>...</td>\n",
       "      <td>...</td>\n",
       "      <td>...</td>\n",
       "      <td>...</td>\n",
       "      <td>...</td>\n",
       "    </tr>\n",
       "    <tr>\n",
       "      <th>10667</th>\n",
       "      <td>-0.013691</td>\n",
       "      <td>-0.00968</td>\n",
       "      <td>-0.00968</td>\n",
       "      <td>-0.00968</td>\n",
       "      <td>-0.00968</td>\n",
       "      <td>-0.00968</td>\n",
       "      <td>-0.083938</td>\n",
       "      <td>-0.056840</td>\n",
       "      <td>-0.028936</td>\n",
       "      <td>-0.00968</td>\n",
       "      <td>...</td>\n",
       "      <td>-0.00968</td>\n",
       "      <td>-0.0669</td>\n",
       "      <td>-0.00968</td>\n",
       "      <td>-0.00968</td>\n",
       "      <td>-0.019327</td>\n",
       "      <td>-0.016732</td>\n",
       "      <td>-0.00968</td>\n",
       "      <td>-0.00968</td>\n",
       "      <td>-0.00968</td>\n",
       "      <td>-0.00968</td>\n",
       "    </tr>\n",
       "    <tr>\n",
       "      <th>10668</th>\n",
       "      <td>-0.013691</td>\n",
       "      <td>-0.00968</td>\n",
       "      <td>-0.00968</td>\n",
       "      <td>-0.00968</td>\n",
       "      <td>-0.00968</td>\n",
       "      <td>-0.00968</td>\n",
       "      <td>-0.083938</td>\n",
       "      <td>18.016948</td>\n",
       "      <td>-0.028936</td>\n",
       "      <td>-0.00968</td>\n",
       "      <td>...</td>\n",
       "      <td>-0.00968</td>\n",
       "      <td>-0.0669</td>\n",
       "      <td>-0.00968</td>\n",
       "      <td>-0.00968</td>\n",
       "      <td>-0.019327</td>\n",
       "      <td>-0.016732</td>\n",
       "      <td>-0.00968</td>\n",
       "      <td>-0.00968</td>\n",
       "      <td>-0.00968</td>\n",
       "      <td>-0.00968</td>\n",
       "    </tr>\n",
       "    <tr>\n",
       "      <th>10669</th>\n",
       "      <td>-0.013691</td>\n",
       "      <td>-0.00968</td>\n",
       "      <td>-0.00968</td>\n",
       "      <td>-0.00968</td>\n",
       "      <td>-0.00968</td>\n",
       "      <td>-0.00968</td>\n",
       "      <td>-0.083938</td>\n",
       "      <td>-0.056840</td>\n",
       "      <td>-0.028936</td>\n",
       "      <td>-0.00968</td>\n",
       "      <td>...</td>\n",
       "      <td>-0.00968</td>\n",
       "      <td>-0.0669</td>\n",
       "      <td>-0.00968</td>\n",
       "      <td>-0.00968</td>\n",
       "      <td>-0.019327</td>\n",
       "      <td>-0.016732</td>\n",
       "      <td>-0.00968</td>\n",
       "      <td>-0.00968</td>\n",
       "      <td>-0.00968</td>\n",
       "      <td>-0.00968</td>\n",
       "    </tr>\n",
       "    <tr>\n",
       "      <th>10670</th>\n",
       "      <td>-0.013691</td>\n",
       "      <td>-0.00968</td>\n",
       "      <td>-0.00968</td>\n",
       "      <td>-0.00968</td>\n",
       "      <td>-0.00968</td>\n",
       "      <td>-0.00968</td>\n",
       "      <td>-0.083938</td>\n",
       "      <td>-0.056840</td>\n",
       "      <td>-0.028936</td>\n",
       "      <td>-0.00968</td>\n",
       "      <td>...</td>\n",
       "      <td>-0.00968</td>\n",
       "      <td>-0.0669</td>\n",
       "      <td>-0.00968</td>\n",
       "      <td>-0.00968</td>\n",
       "      <td>-0.019327</td>\n",
       "      <td>-0.016732</td>\n",
       "      <td>-0.00968</td>\n",
       "      <td>-0.00968</td>\n",
       "      <td>-0.00968</td>\n",
       "      <td>-0.00968</td>\n",
       "    </tr>\n",
       "    <tr>\n",
       "      <th>10671</th>\n",
       "      <td>-0.013691</td>\n",
       "      <td>-0.00968</td>\n",
       "      <td>-0.00968</td>\n",
       "      <td>-0.00968</td>\n",
       "      <td>-0.00968</td>\n",
       "      <td>-0.00968</td>\n",
       "      <td>-0.083938</td>\n",
       "      <td>-0.056840</td>\n",
       "      <td>-0.028936</td>\n",
       "      <td>-0.00968</td>\n",
       "      <td>...</td>\n",
       "      <td>-0.00968</td>\n",
       "      <td>-0.0669</td>\n",
       "      <td>-0.00968</td>\n",
       "      <td>-0.00968</td>\n",
       "      <td>-0.019327</td>\n",
       "      <td>-0.016732</td>\n",
       "      <td>-0.00968</td>\n",
       "      <td>-0.00968</td>\n",
       "      <td>-0.00968</td>\n",
       "      <td>-0.00968</td>\n",
       "    </tr>\n",
       "  </tbody>\n",
       "</table>\n",
       "<p>10672 rows × 12881 columns</p>\n",
       "</div>"
      ],
      "text/plain": [
       "             00       05       07       08      0ff      0ut        10  \\\n",
       "0     -0.013691 -0.00968 -0.00968 -0.00968 -0.00968 -0.00968 -0.083938   \n",
       "1     -0.013691 -0.00968 -0.00968 -0.00968 -0.00968 -0.00968 -0.083938   \n",
       "2     -0.013691 -0.00968 -0.00968 -0.00968 -0.00968 -0.00968 -0.083938   \n",
       "3     -0.013691 -0.00968 -0.00968 -0.00968 -0.00968 -0.00968 -0.083938   \n",
       "4     -0.013691 -0.00968 -0.00968 -0.00968 -0.00968 -0.00968 -0.083938   \n",
       "...         ...      ...      ...      ...      ...      ...       ...   \n",
       "10667 -0.013691 -0.00968 -0.00968 -0.00968 -0.00968 -0.00968 -0.083938   \n",
       "10668 -0.013691 -0.00968 -0.00968 -0.00968 -0.00968 -0.00968 -0.083938   \n",
       "10669 -0.013691 -0.00968 -0.00968 -0.00968 -0.00968 -0.00968 -0.083938   \n",
       "10670 -0.013691 -0.00968 -0.00968 -0.00968 -0.00968 -0.00968 -0.083938   \n",
       "10671 -0.013691 -0.00968 -0.00968 -0.00968 -0.00968 -0.00968 -0.083938   \n",
       "\n",
       "             100      1000    10000  ...  zombies    zone    zoosk  \\\n",
       "0      -0.056840 -0.028936 -0.00968  ... -0.00968 -0.0669 -0.00968   \n",
       "1      -0.056840 -0.028936 -0.00968  ... -0.00968 -0.0669 -0.00968   \n",
       "2      -0.056840 -0.028936 -0.00968  ... -0.00968 -0.0669 -0.00968   \n",
       "3      -0.056840 -0.028936 -0.00968  ... -0.00968 -0.0669 -0.00968   \n",
       "4      -0.056840 -0.028936 -0.00968  ... -0.00968 -0.0669 -0.00968   \n",
       "...          ...       ...      ...  ...      ...     ...      ...   \n",
       "10667  -0.056840 -0.028936 -0.00968  ... -0.00968 -0.0669 -0.00968   \n",
       "10668  18.016948 -0.028936 -0.00968  ... -0.00968 -0.0669 -0.00968   \n",
       "10669  -0.056840 -0.028936 -0.00968  ... -0.00968 -0.0669 -0.00968   \n",
       "10670  -0.056840 -0.028936 -0.00968  ... -0.00968 -0.0669 -0.00968   \n",
       "10671  -0.056840 -0.028936 -0.00968  ... -0.00968 -0.0669 -0.00968   \n",
       "\n",
       "       zpfa3mqti7qdrpfhqwjm  zuckerberg     zynga       zâ       œf  œlousyâ  \\\n",
       "0                  -0.00968   -0.019327 -0.016732 -0.00968 -0.00968 -0.00968   \n",
       "1                  -0.00968   -0.019327 -0.016732 -0.00968 -0.00968 -0.00968   \n",
       "2                  -0.00968   -0.019327 -0.016732 -0.00968 -0.00968 -0.00968   \n",
       "3                  -0.00968   -0.019327 -0.016732 -0.00968 -0.00968 -0.00968   \n",
       "4                  -0.00968   -0.019327 -0.016732 -0.00968 -0.00968 -0.00968   \n",
       "...                     ...         ...       ...      ...      ...      ...   \n",
       "10667              -0.00968   -0.019327 -0.016732 -0.00968 -0.00968 -0.00968   \n",
       "10668              -0.00968   -0.019327 -0.016732 -0.00968 -0.00968 -0.00968   \n",
       "10669              -0.00968   -0.019327 -0.016732 -0.00968 -0.00968 -0.00968   \n",
       "10670              -0.00968   -0.019327 -0.016732 -0.00968 -0.00968 -0.00968   \n",
       "10671              -0.00968   -0.019327 -0.016732 -0.00968 -0.00968 -0.00968   \n",
       "\n",
       "        œwaist  \n",
       "0     -0.00968  \n",
       "1     -0.00968  \n",
       "2     -0.00968  \n",
       "3     -0.00968  \n",
       "4     -0.00968  \n",
       "...        ...  \n",
       "10667 -0.00968  \n",
       "10668 -0.00968  \n",
       "10669 -0.00968  \n",
       "10670 -0.00968  \n",
       "10671 -0.00968  \n",
       "\n",
       "[10672 rows x 12881 columns]"
      ]
     },
     "execution_count": 16,
     "metadata": {},
     "output_type": "execute_result"
    }
   ],
   "source": [
    "# 標準化する\n",
    "from sklearn.preprocessing import StandardScaler\n",
    "scaler = StandardScaler()\n",
    "\n",
    "X_train_scaled = scaler.fit_transform(X_train)\n",
    "X_valid_scaled = scaler.transform(X_valid)\n",
    "X_test_scaled = scaler.transform(X_test)\n",
    "\n",
    "pd.DataFrame(X_train_scaled, columns = vec_tfidf.get_feature_names())"
   ]
  },
  {
   "cell_type": "code",
   "execution_count": 17,
   "metadata": {},
   "outputs": [],
   "source": [
    "# ファイルの書き出し\n",
    "np.savetxt('train.feature.txt', X_train_scaled)\n",
    "np.savetxt('valid.feature.txt', X_valid_scaled)\n",
    "np.savetxt('test.feature.txt', X_test_scaled)"
   ]
  },
  {
   "cell_type": "markdown",
   "metadata": {},
   "source": [
    "## 52. 学習\n",
    ">51で構築した学習データを用いて，ロジスティック回帰モデルを学習せよ"
   ]
  },
  {
   "cell_type": "code",
   "execution_count": 17,
   "metadata": {},
   "outputs": [
    {
     "data": {
      "text/plain": [
       "LogisticRegression(max_iter=10000, solver='liblinear', tol=0.001)"
      ]
     },
     "execution_count": 17,
     "metadata": {},
     "output_type": "execute_result"
    }
   ],
   "source": [
    "from sklearn.linear_model import LogisticRegression\n",
    "\n",
    "model = LogisticRegression(solver='liblinear', max_iter = 10000, tol=1e-3)\n",
    "model.fit(X_train_scaled, df_train.CATEGORY)"
   ]
  },
  {
   "cell_type": "markdown",
   "metadata": {},
   "source": [
    "## 53.予測\n",
    ">52で学習したロジスティック回帰モデルを用い，与えられた記事見出しからカテゴリとその予測確率を計算するプログラムを実装せよ."
   ]
  },
  {
   "cell_type": "code",
   "execution_count": 18,
   "metadata": {},
   "outputs": [
    {
     "name": "stdout",
     "output_type": "stream",
     "text": [
      "訓練用データ: 0.9993440779610195\n",
      "検証用データ: 0.9190404797601199\n"
     ]
    }
   ],
   "source": [
    "print(f'訓練用データ: {model.score(X_train_scaled, df_train.CATEGORY)}')\n",
    "print(f'検証用データ: {model.score(X_valid_scaled, df_valid.CATEGORY)}')"
   ]
  },
  {
   "cell_type": "code",
   "execution_count": 19,
   "metadata": {},
   "outputs": [],
   "source": [
    "def category_predictor(given_title: str) -> (str, float):\n",
    "    # title文字列を学習済みのtfidfVectorizer(), StandardScaler()を用いてベクトル化\n",
    "    title_vec = vec_tfidf.transform([given_title]).toarray()\n",
    "    title_vec_scaled = scaler.transform(title_vec)\n",
    "    \n",
    "    # 入力タイトルの予測カテゴリ\n",
    "    pred_category = model.predict(title_vec_scaled)\n",
    "    \n",
    "    # model.classes_には分類先のカテゴリが全て格納されているので, 予測カテゴリのindexを取得 -> predict_probaが全てのカテゴリへの分類確率を格納している\n",
    "    index = np.where(model.classes_== pred_category)\n",
    "    \n",
    "    # indexを使って, 予測カテゴリの予測確率を取得\n",
    "    # .predict_probaが多次元配列なのでravel()メソッドで配列を1次元化\n",
    "    probability = model.predict_proba(title_vec_scaled).ravel()[index[0]] \n",
    "    return pred_category[0], probability[0]"
   ]
  },
  {
   "cell_type": "code",
   "execution_count": 20,
   "metadata": {},
   "outputs": [
    {
     "name": "stdout",
     "output_type": "stream",
     "text": [
      "('b', 0.9985592535384239)\n",
      "正解はb\n"
     ]
    }
   ],
   "source": [
    "print(category_predictor(df_train.TITLE[0]))\n",
    "print(f'正解は{df_train.CATEGORY[0]}')"
   ]
  },
  {
   "cell_type": "markdown",
   "metadata": {},
   "source": [
    "## 54.正解率の計測\n",
    ">52で学習したロジスティック回帰モデルの正解率を，学習データおよび評価データ上で計測せよ\n",
    "\n",
    "$$\n",
    "\\frac{TP + TN} {TP + TN + FT + FN}\n",
    "$$"
   ]
  },
  {
   "cell_type": "code",
   "execution_count": 21,
   "metadata": {},
   "outputs": [
    {
     "name": "stdout",
     "output_type": "stream",
     "text": [
      "学習データの正解率: 0.9993440779610195\n",
      "評価データの正解率: 0.9062968515742129\n"
     ]
    }
   ],
   "source": [
    "from sklearn.metrics import accuracy_score\n",
    "# accracy_score(y_true, y_pred)\n",
    "train_pred = model.predict(X_train_scaled)\n",
    "test_pred = model.predict(X_test_scaled)\n",
    "\n",
    "print(f'学習データの正解率: {accuracy_score(df_train.CATEGORY, train_pred)}')\n",
    "print(f'評価データの正解率: {accuracy_score(df_test.CATEGORY, test_pred)}')"
   ]
  },
  {
   "cell_type": "markdown",
   "metadata": {},
   "source": [
    "オーバーフィッティングしている..."
   ]
  },
  {
   "cell_type": "code",
   "execution_count": 22,
   "metadata": {},
   "outputs": [
    {
     "name": "stdout",
     "output_type": "stream",
     "text": [
      "学習データの正解率: 0.9993440779610195\n",
      "評価データの正解率: 0.9017991004497751\n"
     ]
    }
   ],
   "source": [
    "# 正則化してみる\n",
    "re_model = LogisticRegression(solver='liblinear', max_iter = 10000, tol=1e-3, penalty='l2', C=100)\n",
    "re_model.fit(X_train_scaled, df_train.CATEGORY)\n",
    "\n",
    "train_pred = re_model.predict(X_train_scaled)\n",
    "test_pred = re_model.predict(X_test_scaled)\n",
    "\n",
    "print(f'学習データの正解率: {accuracy_score(df_train.CATEGORY, train_pred)}')\n",
    "print(f'評価データの正解率: {accuracy_score(df_test.CATEGORY, test_pred)}')"
   ]
  },
  {
   "cell_type": "markdown",
   "metadata": {},
   "source": [
    "むしろ評価データの正解率下がった. -> 問58"
   ]
  },
  {
   "cell_type": "markdown",
   "metadata": {},
   "source": [
    "## 55. 混同行列の作成\n",
    ">52で学習したロジスティック回帰モデルの混同行列（confusion matrix）を，学習データおよび評価データ上で作成せよ"
   ]
  },
  {
   "cell_type": "code",
   "execution_count": 23,
   "metadata": {},
   "outputs": [
    {
     "name": "stdout",
     "output_type": "stream",
     "text": [
      "学習データの混同行列\n"
     ]
    },
    {
     "data": {
      "text/html": [
       "<div>\n",
       "<style scoped>\n",
       "    .dataframe tbody tr th:only-of-type {\n",
       "        vertical-align: middle;\n",
       "    }\n",
       "\n",
       "    .dataframe tbody tr th {\n",
       "        vertical-align: top;\n",
       "    }\n",
       "\n",
       "    .dataframe thead th {\n",
       "        text-align: right;\n",
       "    }\n",
       "</style>\n",
       "<table border=\"1\" class=\"dataframe\">\n",
       "  <thead>\n",
       "    <tr style=\"text-align: right;\">\n",
       "      <th></th>\n",
       "      <th>予測b</th>\n",
       "      <th>予測e</th>\n",
       "      <th>予測m</th>\n",
       "      <th>予測t</th>\n",
       "    </tr>\n",
       "  </thead>\n",
       "  <tbody>\n",
       "    <tr>\n",
       "      <th>正解b</th>\n",
       "      <td>4492</td>\n",
       "      <td>0</td>\n",
       "      <td>0</td>\n",
       "      <td>1</td>\n",
       "    </tr>\n",
       "    <tr>\n",
       "      <th>正解e</th>\n",
       "      <td>2</td>\n",
       "      <td>4229</td>\n",
       "      <td>0</td>\n",
       "      <td>1</td>\n",
       "    </tr>\n",
       "    <tr>\n",
       "      <th>正解m</th>\n",
       "      <td>0</td>\n",
       "      <td>0</td>\n",
       "      <td>717</td>\n",
       "      <td>0</td>\n",
       "    </tr>\n",
       "    <tr>\n",
       "      <th>正解t</th>\n",
       "      <td>3</td>\n",
       "      <td>0</td>\n",
       "      <td>0</td>\n",
       "      <td>1227</td>\n",
       "    </tr>\n",
       "  </tbody>\n",
       "</table>\n",
       "</div>"
      ],
      "text/plain": [
       "      予測b   予測e  予測m   予測t\n",
       "正解b  4492     0    0     1\n",
       "正解e     2  4229    0     1\n",
       "正解m     0     0  717     0\n",
       "正解t     3     0    0  1227"
      ]
     },
     "metadata": {},
     "output_type": "display_data"
    },
    {
     "name": "stdout",
     "output_type": "stream",
     "text": [
      "\n",
      "評価データの混同行列\n"
     ]
    },
    {
     "data": {
      "text/html": [
       "<div>\n",
       "<style scoped>\n",
       "    .dataframe tbody tr th:only-of-type {\n",
       "        vertical-align: middle;\n",
       "    }\n",
       "\n",
       "    .dataframe tbody tr th {\n",
       "        vertical-align: top;\n",
       "    }\n",
       "\n",
       "    .dataframe thead th {\n",
       "        text-align: right;\n",
       "    }\n",
       "</style>\n",
       "<table border=\"1\" class=\"dataframe\">\n",
       "  <thead>\n",
       "    <tr style=\"text-align: right;\">\n",
       "      <th></th>\n",
       "      <th>予測b</th>\n",
       "      <th>予測e</th>\n",
       "      <th>予測m</th>\n",
       "      <th>予測t</th>\n",
       "    </tr>\n",
       "  </thead>\n",
       "  <tbody>\n",
       "    <tr>\n",
       "      <th>正解b</th>\n",
       "      <td>520</td>\n",
       "      <td>10</td>\n",
       "      <td>4</td>\n",
       "      <td>30</td>\n",
       "    </tr>\n",
       "    <tr>\n",
       "      <th>正解e</th>\n",
       "      <td>10</td>\n",
       "      <td>500</td>\n",
       "      <td>2</td>\n",
       "      <td>5</td>\n",
       "    </tr>\n",
       "    <tr>\n",
       "      <th>正解m</th>\n",
       "      <td>14</td>\n",
       "      <td>11</td>\n",
       "      <td>67</td>\n",
       "      <td>4</td>\n",
       "    </tr>\n",
       "    <tr>\n",
       "      <th>正解t</th>\n",
       "      <td>27</td>\n",
       "      <td>10</td>\n",
       "      <td>4</td>\n",
       "      <td>116</td>\n",
       "    </tr>\n",
       "  </tbody>\n",
       "</table>\n",
       "</div>"
      ],
      "text/plain": [
       "     予測b  予測e  予測m  予測t\n",
       "正解b  520   10    4   30\n",
       "正解e   10  500    2    5\n",
       "正解m   14   11   67    4\n",
       "正解t   27   10    4  116"
      ]
     },
     "metadata": {},
     "output_type": "display_data"
    }
   ],
   "source": [
    "from sklearn.metrics import confusion_matrix\n",
    "train_cont_mat = pd.DataFrame(confusion_matrix(df_train.CATEGORY, train_pred),\n",
    "                                               index = ['正解b', '正解e', '正解m', '正解t'],\n",
    "                                               columns = ['予測b', '予測e', '予測m', '予測t'])\n",
    "\n",
    "test_cont_mat = pd.DataFrame(confusion_matrix(df_test.CATEGORY, test_pred),\n",
    "                                               index = ['正解b', '正解e', '正解m', '正解t'],\n",
    "                                               columns = ['予測b', '予測e', '予測m', '予測t'])\n",
    "\n",
    "print('学習データの混同行列')\n",
    "display(train_cont_mat)\n",
    "print('\\n評価データの混同行列')\n",
    "display(test_cont_mat)"
   ]
  },
  {
   "cell_type": "markdown",
   "metadata": {},
   "source": [
    "## 56. 適合率，再現率，F1スコアの計測\n",
    ">52で学習したロジスティック回帰モデルの適合率，再現率，F1スコアを，評価データ上で計測せよ．カテゴリごとに適合率，再現率，F1スコアを求め，カテゴリごとの性能をマイクロ平均（micro-average）とマクロ平均（macro-average）で統合せよ\n",
    "\n",
    "#### 適合率\n",
    ">$$\n",
    "適合率 = \\frac{TP}{TP+FP}\n",
    "$$\n",
    "\n",
    "#### 再現率\n",
    ">$$\n",
    "再現率 = \\frac{TP}{TP+FN}\n",
    "$$\n",
    "\n",
    "#### F1スコア\n",
    ">$$\n",
    "F1 = \\frac{2 × Precision × Recall}{Precision + Recall}\n",
    "$$\n",
    "\n",
    "#### マイクロ平均\n",
    ">各クラスごとの計算をせずに、混合行列全体からTP等の値集計をして算出\n",
    "\n",
    "#### マクロ平均\n",
    ">単純な相加平均"
   ]
  },
  {
   "cell_type": "code",
   "execution_count": 24,
   "metadata": {},
   "outputs": [],
   "source": [
    "from sklearn.metrics import precision_score, recall_score, f1_score"
   ]
  },
  {
   "cell_type": "code",
   "execution_count": 25,
   "metadata": {},
   "outputs": [
    {
     "data": {
      "text/html": [
       "<div>\n",
       "<style scoped>\n",
       "    .dataframe tbody tr th:only-of-type {\n",
       "        vertical-align: middle;\n",
       "    }\n",
       "\n",
       "    .dataframe tbody tr th {\n",
       "        vertical-align: top;\n",
       "    }\n",
       "\n",
       "    .dataframe thead th {\n",
       "        text-align: right;\n",
       "    }\n",
       "</style>\n",
       "<table border=\"1\" class=\"dataframe\">\n",
       "  <thead>\n",
       "    <tr style=\"text-align: right;\">\n",
       "      <th></th>\n",
       "      <th>b</th>\n",
       "      <th>e</th>\n",
       "      <th>m</th>\n",
       "      <th>t</th>\n",
       "      <th>micro</th>\n",
       "      <th>macro</th>\n",
       "    </tr>\n",
       "  </thead>\n",
       "  <tbody>\n",
       "    <tr>\n",
       "      <th>適合率</th>\n",
       "      <td>0.910683</td>\n",
       "      <td>0.941620</td>\n",
       "      <td>0.870130</td>\n",
       "      <td>0.748387</td>\n",
       "      <td>0.901799</td>\n",
       "      <td>0.867705</td>\n",
       "    </tr>\n",
       "    <tr>\n",
       "      <th>再現率</th>\n",
       "      <td>0.921986</td>\n",
       "      <td>0.967118</td>\n",
       "      <td>0.697917</td>\n",
       "      <td>0.738854</td>\n",
       "      <td>0.901799</td>\n",
       "      <td>0.831468</td>\n",
       "    </tr>\n",
       "    <tr>\n",
       "      <th>F1</th>\n",
       "      <td>0.916300</td>\n",
       "      <td>0.954198</td>\n",
       "      <td>0.774566</td>\n",
       "      <td>0.743590</td>\n",
       "      <td>0.901799</td>\n",
       "      <td>0.847164</td>\n",
       "    </tr>\n",
       "  </tbody>\n",
       "</table>\n",
       "</div>"
      ],
      "text/plain": [
       "            b         e         m         t     micro     macro\n",
       "適合率  0.910683  0.941620  0.870130  0.748387  0.901799  0.867705\n",
       "再現率  0.921986  0.967118  0.697917  0.738854  0.901799  0.831468\n",
       "F1   0.916300  0.954198  0.774566  0.743590  0.901799  0.847164"
      ]
     },
     "metadata": {},
     "output_type": "display_data"
    }
   ],
   "source": [
    "# average=Noneとすると各カテゴリに対する値が返ってくる.microとかmacroにすればマイクロ平均, マクロ平均が返ってくる\n",
    "\n",
    "# 適合率の計算.各カテゴリの値を格納した配列にマイクロ平均,マクロ平均の要素を付け足す\n",
    "precision = precision_score(df_test.CATEGORY, test_pred, average=None, labels = ['b', 'e', 'm', 't'])\n",
    "precision = np.append(precision, precision_score(df_test.CATEGORY, test_pred, average='micro'))\n",
    "precision = np.append(precision, precision_score(df_test.CATEGORY, test_pred, average='macro'))\n",
    "\n",
    "# 再現率\n",
    "recall = recall_score(df_test.CATEGORY, test_pred, average=None, labels = ['b', 'e', 'm', 't'])\n",
    "recall = np.append(recall, recall_score(df_test.CATEGORY, test_pred, average='micro'))\n",
    "recall = np.append(recall, recall_score(df_test.CATEGORY, test_pred, average='macro'))\n",
    "\n",
    "# F1\n",
    "f1 = f1_score(df_test.CATEGORY, test_pred, average=None, labels = ['b', 'e', 'm', 't'])\n",
    "f1 = np.append(f1, f1_score(df_test.CATEGORY, test_pred, average='micro'))\n",
    "f1 = np.append(f1, f1_score(df_test.CATEGORY, test_pred, average='macro'))\n",
    "\n",
    "#  DataFrame表示のための成型.\n",
    "all_score = np.append(precision, recall, axis=0)\n",
    "all_score = np.append(all_score, f1, axis=0).reshape(3, 6)\n",
    "\n",
    "df_all = pd.DataFrame(all_score, index=['適合率', '再現率', 'F1'], columns=['b', 'e', 'm', 't', 'micro', 'macro'])\n",
    "display(df_all)"
   ]
  },
  {
   "cell_type": "markdown",
   "metadata": {},
   "source": [
    "## 57. 特徴量の重みの確認\n",
    ">52で学習したロジスティック回帰モデルの中で，重みの高い特徴量トップ10と，重みの低い特徴量トップ10を確認せよ"
   ]
  },
  {
   "cell_type": "code",
   "execution_count": 26,
   "metadata": {},
   "outputs": [
    {
     "data": {
      "text/plain": [
       "(4, 12881)"
      ]
     },
     "execution_count": 26,
     "metadata": {},
     "output_type": "execute_result"
    }
   ],
   "source": [
    "model.coef_.shape\n",
    "# 多クラス分類問題なので,クラスごとの重みがリストになって格納されている"
   ]
  },
  {
   "cell_type": "code",
   "execution_count": 27,
   "metadata": {},
   "outputs": [
    {
     "name": "stdout",
     "output_type": "stream",
     "text": [
      "b\n",
      "重みの高い特徴量トップ10\n",
      "array(['update', 'fed', 'ecb', 'stocks', 'bank', 'inflation', 'dollar',\n",
      "       'obamacare', 'china', 'ukraine'], dtype='<U53')\n",
      "重みの低い特徴量トップ10\n",
      "array(['april', 'activision', 'apple', 'google', 'fcc', 'facebook',\n",
      "       'climate', 'ebola', 'the', 'kardashian'], dtype='<U53')\n",
      "======================\n",
      "e\n",
      "重みの高い特徴量トップ10\n",
      "array(['miley', 'kardashian', 'cyrus', 'kim', 'mother', 'chris',\n",
      "       'wedding', 'bieber', 'april', 'thrones'], dtype='<U53')\n",
      "重みの低い特徴量トップ10\n",
      "array(['apple', 'us', 'google', 'update', 'microsoft', 'facebook',\n",
      "       'china', 'ceo', 'than', 'neutrality'], dtype='<U53')\n",
      "======================\n",
      "m\n",
      "重みの高い特徴量トップ10\n",
      "array(['ebola', 'mers', 'cigarettes', 'fda', 'cancer', 'study',\n",
      "       'outbreak', 'cases', 'alzheimer', 'hiv'], dtype='<U53')\n",
      "重みの低い特徴量トップ10\n",
      "array(['20', 'partying', 'roche', 'wearing', 'dimon', 'demanding',\n",
      "       'errors', 'triples', 'funding', 'theaten'], dtype='<U53')\n",
      "======================\n",
      "t\n",
      "重みの高い特徴量トップ10\n",
      "array(['google', 'facebook', 'apple', 'climate', 'microsoft',\n",
      "       'neutrality', 'fcc', 'nasa', 'tesla', 'iphone'], dtype='<U53')\n",
      "重みの低い特徴量トップ10\n",
      "array(['update', 'expands', 'upholds', 'compromise', 'boss', 'camaros',\n",
      "       'response', 'veronica', 'brings', 'corrected'], dtype='<U53')\n",
      "======================\n"
     ]
    }
   ],
   "source": [
    "from pprint import pprint\n",
    "# 特徴量の名前をnp.ndarray形式で用意\n",
    "features = np.array(vec_tfidf.get_feature_names())\n",
    "\n",
    "for category, coef in zip(model.classes_, model.coef_):\n",
    "    # argsortすると, ソートされた値ではなくインデックス番号を取得してくれる(ここでは昇順ソート)\n",
    "    index = np.argsort(coef)\n",
    "    print(category)\n",
    "    \n",
    "    print('重みの高い特徴量トップ10')\n",
    "    pprint(features[index][-10:][::-1])   # 最後の10個を持ってきて, それを逆順にする = 重みの高い特徴量トップ10\n",
    "    print('重みの低い特徴量トップ10')\n",
    "    pprint(features[index][:10])   # 最初の10個を持ってくる　= 重みの低い特徴量トップ10\n",
    "    print('======================')"
   ]
  },
  {
   "cell_type": "markdown",
   "metadata": {},
   "source": [
    "## 58. 正則化パラメータの変更\n",
    ">ロジスティック回帰モデルを学習するとき，正則化パラメータを調整することで，学習時の過学習（overfitting）の度合いを制御できる．異なる正則化パラメータでロジスティック回帰モデルを学習し，学習データ，検証データ，および評価データ上の正解率を求めよ．実験の結果は，正則化パラメータを横軸，正解率を縦軸としたグラフにまとめよ"
   ]
  },
  {
   "cell_type": "code",
   "execution_count": 28,
   "metadata": {},
   "outputs": [
    {
     "name": "stderr",
     "output_type": "stream",
     "text": [
      "/Users/nagasawa_h/.pyenv/versions/anaconda3-2020.07/lib/python3.8/site-packages/sklearn/linear_model/_logistic.py:762: ConvergenceWarning: lbfgs failed to converge (status=1):\n",
      "STOP: TOTAL NO. of ITERATIONS REACHED LIMIT.\n",
      "\n",
      "Increase the number of iterations (max_iter) or scale the data as shown in:\n",
      "    https://scikit-learn.org/stable/modules/preprocessing.html\n",
      "Please also refer to the documentation for alternative solver options:\n",
      "    https://scikit-learn.org/stable/modules/linear_model.html#logistic-regression\n",
      "  n_iter_i = _check_optimize_result(\n"
     ]
    }
   ],
   "source": [
    "Cs = [0.01, 0.1, 1.0, 10.0, 100.0]\n",
    "train_score = []\n",
    "valid_score = []\n",
    "test_score = []\n",
    "\n",
    "for c in Cs:\n",
    "    \"L2正則化\"\n",
    "    model = LogisticRegression(C=c,max_iter=2000, solver='lbfgs', tol=1e-3, penalty='l2', multi_class='auto')\n",
    "    model.fit(X_train_scaled, df_train.CATEGORY)\n",
    "    train_score.append(accuracy_score(df_train.CATEGORY, model.predict(X_train_scaled)))\n",
    "    valid_score.append(accuracy_score(df_valid.CATEGORY, model.predict(X_valid_scaled)))\n",
    "    test_score.append(accuracy_score(df_test.CATEGORY, model.predict(X_test_scaled)))"
   ]
  },
  {
   "cell_type": "code",
   "execution_count": 29,
   "metadata": {},
   "outputs": [
    {
     "data": {
      "image/png": "[encoded data removed]",
      "text/plain": [
       "<Figure size 576x360 with 1 Axes>"
      ]
     },
     "metadata": {
      "needs_background": "light"
     },
     "output_type": "display_data"
    }
   ],
   "source": [
    "# グラフの描画\n",
    "import matplotlib.pyplot as plt\n",
    "%matplotlib inline\n",
    "plt.figure(figsize=(8,5))\n",
    "plt.xscale('log')\n",
    "plt.plot(Cs, train_score, label='train')\n",
    "plt.plot(Cs, valid_score, label='valid')\n",
    "plt.plot(Cs, test_score, label='test')\n",
    "plt.ylabel('Accuracy')\n",
    "plt.xlabel('C')\n",
    "plt.legend()\n",
    "plt.title('Scores with Parametes')\n",
    "plt.show()"
   ]
  },
  {
   "cell_type": "markdown",
   "metadata": {},
   "source": [
    "trainのスコアが変動していないが, これは扱うデータが標準化されている & データが不均衡(今回はaccuracy高めに出やすい) & ベクトル空間かなり広めなので決定境界が簡単に引けちゃう."
   ]
  },
  {
   "cell_type": "code",
   "execution_count": 37,
   "metadata": {},
   "outputs": [
    {
     "name": "stdout",
     "output_type": "stream",
     "text": [
      "[0.9993440779610195, 0.9993440779610195, 0.9993440779610195, 0.9993440779610195, 0.9993440779610195]\n",
      "[0.9190404797601199, 0.9227886056971514, 0.9175412293853074, 0.9152923538230885, 0.9100449775112444]\n",
      "[0.9115442278860569, 0.9122938530734632, 0.9092953523238381, 0.9077961019490255, 0.9032983508245878]\n"
     ]
    }
   ],
   "source": [
    "print(train_score, valid_score, test_score, sep='\\n')"
   ]
  },
  {
   "cell_type": "markdown",
   "metadata": {},
   "source": [
    "## 59. ハイパーパラメータの探索\n",
    ">学習アルゴリズムや学習パラメータを変えながら，カテゴリ分類モデルを学習せよ．検証データ上の正解率が最も高くなる学習アルゴリズム・パラメータを求めよ．また，その学習アルゴリズム・パラメータを用いたときの評価データ上の正解率を求めよ"
   ]
  },
  {
   "cell_type": "code",
   "execution_count": 33,
   "metadata": {},
   "outputs": [
    {
     "name": "stdout",
     "output_type": "stream",
     "text": [
      "Fitting 3 folds for each of 10 candidates, totalling 30 fits\n"
     ]
    },
    {
     "name": "stderr",
     "output_type": "stream",
     "text": [
      "[Parallel(n_jobs=1)]: Using backend SequentialBackend with 1 concurrent workers.\n",
      "[Parallel(n_jobs=1)]: Done  30 out of  30 | elapsed: 25.9min finished\n"
     ]
    },
    {
     "data": {
      "text/plain": [
       "GridSearchCV(cv=3, estimator=LogisticRegression(max_iter=10000, tol=0.001),\n",
       "             param_grid={'C': [0.01, 0.1, 1.0, 10.0, 100.0],\n",
       "                         'solver': ['lbfgs', 'liblinear']},\n",
       "             verbose=1)"
      ]
     },
     "execution_count": 33,
     "metadata": {},
     "output_type": "execute_result"
    }
   ],
   "source": [
    "# GridSearchCVを用いたパラメータ探索\n",
    "from sklearn.model_selection import GridSearchCV\n",
    "params = {'C':[0.01, 0.1, 1.0, 10.0, 100.0],\n",
    "                 'solver':['lbfgs', 'liblinear']}\n",
    "\n",
    "clf = GridSearchCV(LogisticRegression(max_iter=10000, tol=1e-3, multi_class='auto'), params, cv=3, verbose=1)\n",
    "clf.fit(X_train_scaled, df_train.CATEGORY)\n",
    "\n",
    "\"\"\"\n",
    "n_jobsなどの引数でマルチコア計算サポート　ー> ドキュメントは大事！！！ まずはドキュメントくらいの気持ちで.\n",
    "\"\"\""
   ]
  },
  {
   "cell_type": "code",
   "execution_count": 34,
   "metadata": {},
   "outputs": [
    {
     "name": "stdout",
     "output_type": "stream",
     "text": [
      "{'C': 0.1, 'solver': 'lbfgs'}\n",
      "0.8930840385300892\n"
     ]
    }
   ],
   "source": [
    "print(clf.best_params_)\n",
    "print(clf.best_score_)"
   ]
  },
  {
   "cell_type": "code",
   "execution_count": 35,
   "metadata": {},
   "outputs": [
    {
     "name": "stdout",
     "output_type": "stream",
     "text": [
      "0.9227886056971514\n"
     ]
    }
   ],
   "source": [
    "print(accuracy_score(df_valid.CATEGORY, clf.predict(X_valid_scaled)))"
   ]
  },
  {
   "cell_type": "code",
   "execution_count": 36,
   "metadata": {},
   "outputs": [
    {
     "name": "stdout",
     "output_type": "stream",
     "text": [
      "train: 0.9949400299850075\n",
      "valid: 0.8245877061469266\n",
      "test: 0.8343328335832084\n"
     ]
    }
   ],
   "source": [
    "# 確率的勾配降下法\n",
    "from sklearn.linear_model import SGDClassifier\n",
    "\n",
    "model = SGDClassifier(max_iter=2000, tol=1e-3)\n",
    "model.fit(X_train_scaled, df_train.CATEGORY)\n",
    "\n",
    "print(f'train: {accuracy_score(df_train.CATEGORY, model.predict(X_train_scaled))}')\n",
    "print(f'valid: {accuracy_score(df_valid.CATEGORY, model.predict(X_valid_scaled))}')\n",
    "print(f'test: {accuracy_score(df_test.CATEGORY, model.predict(X_test_scaled))}')"
   ]
  },
  {
   "cell_type": "markdown",
   "metadata": {},
   "source": [
    "SVMが分類器としてよく使われている.RandomForestとかも有名.その辺も試してみるといいかも..."
   ]
  },
  {
   "cell_type": "code",
   "execution_count": null,
   "metadata": {},
   "outputs": [],
   "source": []
  }
 ],
 "metadata": {
  "kernelspec": {
   "display_name": "Python 3",
   "language": "python",
   "name": "python3"
  },
  "language_info": {
   "codemirror_mode": {
    "name": "ipython",
    "version": 3
   },
   "file_extension": ".py",
   "mimetype": "text/x-python",
   "name": "python",
   "nbconvert_exporter": "python",
   "pygments_lexer": "ipython3",
   "version": "3.8.3"
  }
 },
 "nbformat": 4,
 "nbformat_minor": 4
}
