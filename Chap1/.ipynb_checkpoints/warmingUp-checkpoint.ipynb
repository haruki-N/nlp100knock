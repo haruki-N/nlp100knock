{
 "cells": [
  {
   "cell_type": "code",
   "execution_count": 1,
   "metadata": {},
   "outputs": [
    {
     "name": "stdout",
     "output_type": "stream",
     "text": [
      "desserts\n"
     ]
    }
   ],
   "source": [
    "# 準備運動の内容をやっていく\n",
    "# 00. 文字列の逆順  文字列”stressed”の文字を逆に（末尾から先頭に向かって）並べた文字列を得よ\n",
    "text = 'stressed'\n",
    "inverse_text = text[::-1]\n",
    "print(inverse_text)"
   ]
  },
  {
   "cell_type": "code",
   "execution_count": 5,
   "metadata": {},
   "outputs": [
    {
     "name": "stdout",
     "output_type": "stream",
     "text": [
      "パトカー\n"
     ]
    }
   ],
   "source": [
    "# 01. 「パタトクカシーー」 「パタトクカシーー」という文字列の1,3,5,7文字目を取り出して連結した文字列を得よ．\n",
    "text01 = 'パタトクカシーー'\n",
    "num_list = [0, 2, 4, 6]\n",
    "text01_ad = ''\n",
    "for i in num_list:\n",
    "    text01_ad += text01[i]\n",
    "    \n",
    "print(text01_ad)"
   ]
  },
  {
   "cell_type": "code",
   "execution_count": 6,
   "metadata": {},
   "outputs": [
    {
     "name": "stdout",
     "output_type": "stream",
     "text": [
      "パタトクカシーー\n"
     ]
    }
   ],
   "source": [
    "# 02. 「パトカー」＋「タクシー」＝「パタトクカシーー」\n",
    "#「パトカー」＋「タクシー」の文字を先頭から交互に連結して文字列「パタトクカシーー」を得よ\n",
    "text02_1 = 'パトカー'\n",
    "text02_2 = 'タクシー'\n",
    "text_mixed = ''\n",
    "for i, j in zip(text02_1, text02_2):\n",
    "    text_mixed = text_mixed + i + j\n",
    "    \n",
    "print(text_mixed)"
   ]
  },
  {
   "cell_type": "code",
   "execution_count": 11,
   "metadata": {},
   "outputs": [
    {
     "name": "stdout",
     "output_type": "stream",
     "text": [
      "[3, 1, 4, 1, 5, 9, 2, 6, 5, 3, 5, 8, 9, 7, 9]\n"
     ]
    }
   ],
   "source": [
    "# 03. 円周率\n",
    "#“Now I need a drink, alcoholic of course, after the heavy lectures involving quantum mechanics.”\n",
    "#という文を単語に分解し，各単語の（アルファベットの）文字数を先頭から出現順に並べたリストを作成せよ\n",
    "given_text = \"Now I need a drink, alcoholic of course, after the heavy lectures involving quantum mechanics.\"\n",
    "word_list = given_text.strip('.').split(' ')\n",
    "word_count = []\n",
    "\n",
    "for word in word_list:\n",
    "    word_count.append(len(word.strip(',')))\n",
    "    \n",
    "print(word_count)"
   ]
  },
  {
   "cell_type": "code",
   "execution_count": 14,
   "metadata": {},
   "outputs": [
    {
     "name": "stdout",
     "output_type": "stream",
     "text": [
      "{0: 'H', 1: 'He', 2: 'Li', 3: 'Be', 4: 'B', 5: 'C', 6: 'N', 7: 'O', 8: 'F', 9: 'Ne', 10: 'Na', 11: 'Mi', 12: 'Al', 13: 'Si', 14: 'P', 15: 'S', 16: 'Cl', 17: 'Ar', 18: 'K', 19: 'Ca'}\n"
     ]
    }
   ],
   "source": [
    "# 04. 元素記号\n",
    "\"\"\"\n",
    "“Hi He Lied Because Boron Could Not Oxidize Fluorine. New Nations Might Also Sign Peace Security Clause. Arthur King Can.”\n",
    "という文を単語に分解し，1, 5, 6, 7, 8, 9, 15, 16, 19番目の単語は先頭の1文字，\n",
    "それ以外の単語は先頭の2文字を取り出し，取り出した文字列から単語の位置（先頭から何番目の単語か）への\n",
    "連想配列（辞書型もしくはマップ型）を作成せよ．\n",
    "\"\"\"\n",
    "given_text = \"Hi He Lied Because Boron Could Not Oxidize Fluorine. New Nations Might Also Sign Peace Security Clause. Arthur King Can.\"\n",
    "num_index = [0, 4, 5, 6, 7, 8, 14, 15, 18]\n",
    "element_dict = {}\n",
    "word_list = given_text.split(' ')\n",
    "c = 0\n",
    "for word in word_list:\n",
    "    word = word.strip('.').strip(',')\n",
    "    if c in num_index:\n",
    "        element_dict[c] = word[0]\n",
    "    else:\n",
    "        element_dict[c] = word[:2]\n",
    "        \n",
    "    c += 1\n",
    "        \n",
    "print(element_dict)"
   ]
  },
  {
   "cell_type": "code",
   "execution_count": 16,
   "metadata": {},
   "outputs": [
    {
     "name": "stdout",
     "output_type": "stream",
     "text": [
      "ーーーーー単語bi-gramーーーーー\n",
      "[['I', 'am'], ['am', 'an'], ['an', 'NLPer']]\n",
      "ーーーーー文字bi-gramーーーーー\n",
      "['Ia', 'am', 'ma', 'an', 'nN', 'NL', 'LP', 'Pe', 'er']\n"
     ]
    }
   ],
   "source": [
    "# 05. n-gram\n",
    "\"\"\"\n",
    "与えられたシーケンス（文字列やリストなど）からn-gramを作る関数を作成せよ．\n",
    "この関数を用い，”I am an NLPer”という文から単語bi-gram，文字bi-gramを得よ\n",
    "\"\"\"\n",
    "def n_gram_maker(string, n):\n",
    "    return [string[i:i+n] for i in range(len(string) - n + 1)]\n",
    "\n",
    "given_text = 'I am an NLPer'\n",
    "# 単語bi-gram生成\n",
    "word_list = given_text.split(' ')\n",
    "print('ーーーーー単語bi-gramーーーーー')\n",
    "print(n_gram_maker(word_list, 2))\n",
    "print('ーーーーー文字bi-gramーーーーー')\n",
    "print(n_gram_maker(given_text.replace(' ', ''), 2))"
   ]
  },
  {
   "cell_type": "code",
   "execution_count": 19,
   "metadata": {},
   "outputs": [
    {
     "name": "stdout",
     "output_type": "stream",
     "text": [
      "add_set : {'ph', 'ap', 'ag', 'gr', 'is', 'ad', 'se', 'ar', 'di', 'pa', 'ra'}\n",
      "mul_set : {'ap', 'pa', 'ra', 'ar'}\n",
      "sub_set : {'is', 'ad', 'se', 'di'}\n",
      "seはXに含まれます\n",
      "seはYには含まれません\n"
     ]
    }
   ],
   "source": [
    "# 06. 集合\n",
    "#“paraparaparadise”と”paragraph”に含まれる文字bi-gramの集合を，それぞれ, XとYとして求め，XとYの和集合，積集合，差集合を求めよ．\n",
    "#さらに，’se’というbi-gramがXおよびYに含まれるかどうかを調べよ\n",
    "X = set(n_gram_maker(\"paraparaparadise\", 2))\n",
    "Y = set(n_gram_maker(\"paragraph\", 2))\n",
    "add_set = X | Y\n",
    "mul_set = X & Y\n",
    "sub_set = X - Y\n",
    "\n",
    "print('add_set :', add_set)\n",
    "print('mul_set :', mul_set)\n",
    "print('sub_set :', sub_set)\n",
    "\n",
    "if 'se' in X:\n",
    "    print('seはXに含まれます')\n",
    "else:\n",
    "    print('seはXには含まれません')\n",
    "    \n",
    "if 'se' in Y:\n",
    "    print('seはYに含まれます')\n",
    "else:\n",
    "    print('seはYには含まれません')"
   ]
  },
  {
   "cell_type": "code",
   "execution_count": 20,
   "metadata": {},
   "outputs": [
    {
     "name": "stdout",
     "output_type": "stream",
     "text": [
      "12時の気温は22.4\n"
     ]
    }
   ],
   "source": [
    "# 07. テンプレートによる文生成\n",
    "# 引数x, y, zを受け取り「x時のyはz」という文字列を返す関数を実装せよ．さらに，x=12, y=”気温”, z=22.4として，実行結果を確認せよ\n",
    "def st_maker(x, y, z):\n",
    "    return '{}時の{}は{}'.format(x, y, z)\n",
    "\n",
    "print(st_maker(12, '気温', 22.4))"
   ]
  },
  {
   "cell_type": "code",
   "execution_count": 22,
   "metadata": {},
   "outputs": [
    {
     "name": "stdout",
     "output_type": "stream",
     "text": [
      "z\n"
     ]
    }
   ],
   "source": [
    "# 08. 暗号文\n",
    "#与えられた文字列の各文字を，以下の仕様で変換する関数cipherを実装せよ．\n",
    "#英小文字ならば(219 - 文字コード)の文字に置換\n",
    "#その他の文字はそのまま出力\n",
    "#この関数を用い，英語のメッセージを暗号化・復号化せよ\n",
    "\n",
    "def cipher(x):\n",
    "    if x.isalnum():\n",
    "        return chr(219 - ord(x))\n",
    "    else:\n",
    "        return x\n",
    "    \n",
    "text = 'a'\n",
    "print(cipher(text))"
   ]
  },
  {
   "cell_type": "code",
   "execution_count": 29,
   "metadata": {},
   "outputs": [
    {
     "name": "stdout",
     "output_type": "stream",
     "text": [
      "I codul’nt blvieee that cloud alcultay uertdasnnd what was riadeng the penaehmonl pwoer of the hamun mind\n"
     ]
    }
   ],
   "source": [
    "# 09. Typoglycemia\n",
    "# スペースで区切られた単語列に対して，各単語の先頭と末尾の文字は残しそれ以外の文字の順序をランダムに並び替えるプログラムを作成せよ．\n",
    "#ただし，長さが４以下の単語は並び替えないこととする．適当な英語の文\n",
    "#（例えば”I couldn’t believe that I could actually understand what I was reading : \n",
    "#the phenomenal power of the human mind .”）を与え，その実行結果を確認せよ\n",
    "\n",
    "def text_shuffler(text):\n",
    "    import random\n",
    "    word_list = text.split(' ')\n",
    "    c = 0\n",
    "    for word in word_list:\n",
    "        if len(word) > 4:\n",
    "            word_list[c] = word[0] + ''.join(random.sample(word[1:-1], len(word)-2)) + word[-1]\n",
    "        c+=1\n",
    "    \n",
    "    ans_text = word_list[0]\n",
    "    for word in word_list:\n",
    "        if word == word[0]:\n",
    "            continue\n",
    "            \n",
    "        ans_text += ' ' + word\n",
    "        \n",
    "    return ans_text\n",
    "\n",
    "print(text_shuffler(\"I couldn’t believe that I could actually understand what I was reading : the phenomenal power of the human mind .\"))"
   ]
  },
  {
   "cell_type": "code",
   "execution_count": null,
   "metadata": {},
   "outputs": [],
   "source": []
  }
 ],
 "metadata": {
  "kernelspec": {
   "display_name": "Python 3",
   "language": "python",
   "name": "python3"
  },
  "language_info": {
   "codemirror_mode": {
    "name": "ipython",
    "version": 3
   },
   "file_extension": ".py",
   "mimetype": "text/x-python",
   "name": "python",
   "nbconvert_exporter": "python",
   "pygments_lexer": "ipython3",
   "version": "3.7.4"
  }
 },
 "nbformat": 4,
 "nbformat_minor": 4
}
