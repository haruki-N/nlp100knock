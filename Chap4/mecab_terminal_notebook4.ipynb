{
 "cells": [
  {
   "cell_type": "code",
   "execution_count": 1,
   "metadata": {},
   "outputs": [
    {
     "name": "stdout",
     "output_type": "stream",
     "text": [
      "一\r",
      "\r\n",
      "\r",
      "\r\n",
      "　吾輩は猫である。\r",
      "\r\n",
      "名前はまだ無い。\r",
      "\r\n",
      "\r",
      "\r\n",
      "　どこで生れたかとんと見当がつかぬ。\r",
      "\r\n",
      "何でも薄暗いじめじめした所でニャーニャー泣いていた事だけは記憶している。\r",
      "\r\n",
      "吾輩はここで始めて人間というものを見た。\r",
      "\r\n",
      "しかもあとで聞くとそれは書生という人間中で一番獰悪な種族であったそうだ。\r",
      "\r\n",
      "この書生というのは時々我々を捕えて煮て食うという話である。\r",
      "\r\n"
     ]
    }
   ],
   "source": [
    "!head neko.txt"
   ]
  },
  {
   "cell_type": "code",
   "execution_count": 1,
   "metadata": {},
   "outputs": [],
   "source": [
    "# mecabの実行\n",
    "!mecab neko.txt > neko_re.txt.mecab"
   ]
  },
  {
   "cell_type": "code",
   "execution_count": 2,
   "metadata": {},
   "outputs": [
    {
     "name": "stdout",
     "output_type": "stream",
     "text": [
      "一\t名詞,数,*,*,*,*,一,イチ,イチ\r\n",
      "\r",
      "\t記号,一般,*,*,*,*,*\r\n",
      "EOS\r\n",
      "\r",
      "\t記号,一般,*,*,*,*,*\r\n",
      "EOS\r\n",
      "　\t記号,空白,*,*,*,*,　,　,　\r\n",
      "吾輩\t名詞,代名詞,一般,*,*,*,吾輩,ワガハイ,ワガハイ\r\n",
      "は\t助詞,係助詞,*,*,*,*,は,ハ,ワ\r\n",
      "猫\t名詞,一般,*,*,*,*,猫,ネコ,ネコ\r\n",
      "で\t助動詞,*,*,*,特殊・ダ,連用形,だ,デ,デ\r\n"
     ]
    }
   ],
   "source": [
    "!head -n10 neko_re.txt.mecab"
   ]
  },
  {
   "cell_type": "markdown",
   "metadata": {},
   "source": [
    "30. **形態素解析結果の読み込み**\n",
    "\n",
    "\n",
    "形態素解析結果を読み込むプログラムを実装せよ.各形態素はsurface, base, pos, pos1とする.\n",
    "mecabでは\n",
    "\n",
    "『表層形\\t品詞, 品詞細分類1, 品詞細分類2, 品詞細分類3, 活用型, 活用形, 原形, 読み, 発音』\n",
    "\n",
    "の形式で解析結果を返している"
   ]
  },
  {
   "cell_type": "code",
   "execution_count": 1,
   "metadata": {},
   "outputs": [],
   "source": [
    "def parse_mecab_line(line):\n",
    "    p = line.find('\\t')   # \\tの位置インデックスを返す.\n",
    "    assert p != -1, 'The line does not contain a TAB character.'\n",
    "    values = line[p+1:].split(',')\n",
    "    assert len(values) == 9, 'The line should have nine values separated by comma'\n",
    "    return {'surface': line[:p], 'pos':values[0], 'pos1':values[1], 'base':values[6]}"
   ]
  },
  {
   "cell_type": "markdown",
   "metadata": {},
   "source": [
    "入力された行の異常を検知するために, assert文を用いている.\n",
    "\n",
    "assert p != -1, 'The line...'\n",
    "\n",
    "はp == -1,　つまり入力行にタブ文字が見つからなかった時に, メッセージを表示してプログラムの実行を停止させる\n",
    "assert文を設けることで潜在的なバグ(エラーは吐かないけど,目的の出力が得られないとか)を避けることができる"
   ]
  },
  {
   "cell_type": "code",
   "execution_count": null,
   "metadata": {},
   "outputs": [],
   "source": [
    "def mecab_reader(lines):\n",
    "    s = []\n",
    "    for line in lines:\n",
    "        line = line.strip('\\n')\n",
    "        if line == 'EOS':\n",
    "            yield s\n",
    "            s = []\n",
    "        else:\n",
    "            s.append(parse_mecab_line(line))"
   ]
  },
  {
   "cell_type": "markdown",
   "metadata": {},
   "source": [
    "**ジェネレータ関数**\n",
    "\n",
    "ジェネレータ関数は,サイズの大きいシーケンス全体をメモリに格納することなく,反復処理ができるもの.(range()関数とかはジェネレータ関数の一つ)\n",
    "値をreturnで返す代わりにyield文で返すこと以外は通常の関数と同じ.ジェネレータ関数はジェネレータオブジェクトを返す.このオブジェクトはfor文などの反復処理が可能.\n"
   ]
  }
 ],
 "metadata": {
  "kernelspec": {
   "display_name": "Python 3",
   "language": "python",
   "name": "python3"
  },
  "language_info": {
   "codemirror_mode": {
    "name": "ipython",
    "version": 3
   },
   "file_extension": ".py",
   "mimetype": "text/x-python",
   "name": "python",
   "nbconvert_exporter": "python",
   "pygments_lexer": "ipython3",
   "version": "3.7.4"
  }
 },
 "nbformat": 4,
 "nbformat_minor": 2
}
